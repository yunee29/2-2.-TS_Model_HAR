{
  "nbformat": 4,
  "nbformat_minor": 0,
  "metadata": {
    "accelerator": "GPU",
    "colab": {
      "name": "LSTM.ipynb",
      "provenance": []
    },
    "kernelspec": {
      "display_name": "Python 3",
      "name": "python3"
    },
    "language_info": {
      "name": "python"
    }
  },
  "cells": [
    {
      "cell_type": "code",
      "metadata": {
        "colab": {
          "base_uri": "https://localhost:8080/"
        },
        "id": "XreYnve1sekd",
        "outputId": "206c755d-9d30-49a4-bee6-161c080e8b09"
      },
      "source": [
        "from google.colab import drive\n",
        "drive.mount('/content/drive')"
      ],
      "execution_count": null,
      "outputs": [
        {
          "output_type": "stream",
          "text": [
            "Mounted at /content/drive\n"
          ],
          "name": "stdout"
        }
      ]
    },
    {
      "cell_type": "code",
      "metadata": {
        "colab": {
          "base_uri": "https://localhost:8080/"
        },
        "id": "chgkQ_Ar1qKN",
        "outputId": "20baf698-bf3c-452a-fd57-f8d3444a32da"
      },
      "source": [
        "# 디바이스 설정\n",
        "import tensorflow as tf\n",
        "import torch\n",
        "\n",
        "if torch.cuda.is_available():    \n",
        "    device = torch.device(\"cuda\")\n",
        "    print('There are %d GPU(s) available.' % torch.cuda.device_count())\n",
        "    print('We will use the GPU:', torch.cuda.get_device_name(0))\n",
        "else:\n",
        "    device = torch.device(\"cpu\")\n",
        "    print('No GPU available, using the CPU instead.')"
      ],
      "execution_count": null,
      "outputs": [
        {
          "output_type": "stream",
          "text": [
            "There are 1 GPU(s) available.\n",
            "We will use the GPU: Tesla V100-SXM2-16GB\n"
          ],
          "name": "stdout"
        }
      ]
    },
    {
      "cell_type": "code",
      "metadata": {
        "id": "Fub-QeUpzVIm"
      },
      "source": [
        "import pandas as pd\n",
        "import numpy as np\n",
        "import matplotlib.pyplot as plt\n",
        "import seaborn as sns\n",
        "%matplotlib inline\n",
        "plt.style.use('ggplot')\n",
        "plt.rcParams['figure.figsize'] = 16,7\n",
        "plt.rc('font', family='NanumBarunGothic') "
      ],
      "execution_count": null,
      "outputs": []
    },
    {
      "cell_type": "code",
      "metadata": {
        "id": "zZg20xDH04SH"
      },
      "source": [
        "sp500 = pd.read_csv('/content/drive/My Drive/데이터/S&P_170103_final.csv')"
      ],
      "execution_count": null,
      "outputs": []
    },
    {
      "cell_type": "code",
      "metadata": {
        "colab": {
          "base_uri": "https://localhost:8080/",
          "height": 221
        },
        "id": "ayZVfsEH05Vd",
        "outputId": "24c47acf-dbcc-442a-85f8-7526c8fe1c9a"
      },
      "source": [
        "print(sp500.shape)\n",
        "sp500.tail() # rv5 sqrt 한 것이 RV"
      ],
      "execution_count": null,
      "outputs": [
        {
          "output_type": "stream",
          "text": [
            "(909, 5)\n"
          ],
          "name": "stdout"
        },
        {
          "output_type": "execute_result",
          "data": {
            "text/html": [
              "<div>\n",
              "<style scoped>\n",
              "    .dataframe tbody tr th:only-of-type {\n",
              "        vertical-align: middle;\n",
              "    }\n",
              "\n",
              "    .dataframe tbody tr th {\n",
              "        vertical-align: top;\n",
              "    }\n",
              "\n",
              "    .dataframe thead th {\n",
              "        text-align: right;\n",
              "    }\n",
              "</style>\n",
              "<table border=\"1\" class=\"dataframe\">\n",
              "  <thead>\n",
              "    <tr style=\"text-align: right;\">\n",
              "      <th></th>\n",
              "      <th>date</th>\n",
              "      <th>snp</th>\n",
              "      <th>snp500</th>\n",
              "      <th>rv5</th>\n",
              "      <th>RV</th>\n",
              "    </tr>\n",
              "  </thead>\n",
              "  <tbody>\n",
              "    <tr>\n",
              "      <th>904</th>\n",
              "      <td>2020-08-17</td>\n",
              "      <td>25.23</td>\n",
              "      <td>25.20</td>\n",
              "      <td>0.000008</td>\n",
              "      <td>0.002907</td>\n",
              "    </tr>\n",
              "    <tr>\n",
              "      <th>905</th>\n",
              "      <td>2020-08-18</td>\n",
              "      <td>29.00</td>\n",
              "      <td>25.76</td>\n",
              "      <td>0.000033</td>\n",
              "      <td>0.005748</td>\n",
              "    </tr>\n",
              "    <tr>\n",
              "      <th>906</th>\n",
              "      <td>2020-08-19</td>\n",
              "      <td>26.10</td>\n",
              "      <td>28.00</td>\n",
              "      <td>0.000030</td>\n",
              "      <td>0.005488</td>\n",
              "    </tr>\n",
              "    <tr>\n",
              "      <th>907</th>\n",
              "      <td>2020-08-20</td>\n",
              "      <td>25.23</td>\n",
              "      <td>26.32</td>\n",
              "      <td>0.000018</td>\n",
              "      <td>0.004251</td>\n",
              "    </tr>\n",
              "    <tr>\n",
              "      <th>908</th>\n",
              "      <td>2020-08-21</td>\n",
              "      <td>26.68</td>\n",
              "      <td>24.92</td>\n",
              "      <td>0.000019</td>\n",
              "      <td>0.004413</td>\n",
              "    </tr>\n",
              "  </tbody>\n",
              "</table>\n",
              "</div>"
            ],
            "text/plain": [
              "           date    snp  snp500       rv5        RV\n",
              "904  2020-08-17  25.23   25.20  0.000008  0.002907\n",
              "905  2020-08-18  29.00   25.76  0.000033  0.005748\n",
              "906  2020-08-19  26.10   28.00  0.000030  0.005488\n",
              "907  2020-08-20  25.23   26.32  0.000018  0.004251\n",
              "908  2020-08-21  26.68   24.92  0.000019  0.004413"
            ]
          },
          "metadata": {
            "tags": []
          },
          "execution_count": 5
        }
      ]
    },
    {
      "cell_type": "code",
      "metadata": {
        "id": "qT6AvHOK08Ih"
      },
      "source": [
        "y = pd.DataFrame(sp500.RV.values[1:])\n",
        "RV_d = pd.DataFrame(sp500.RV[:-1].values)\n",
        "RV_w = pd.DataFrame(sp500.RV.rolling(5).mean()[:-1].values)\n",
        "RV_m = pd.DataFrame(sp500.RV.rolling(22).mean()[:-1].values)"
      ],
      "execution_count": null,
      "outputs": []
    },
    {
      "cell_type": "code",
      "metadata": {
        "id": "nmnx1cIH1DIQ"
      },
      "source": [
        "sp500_RV = pd.concat([RV_d, RV_w, RV_m, y], axis=1).dropna()\n",
        "sp500_RV.columns = ['rv_d', 'rv_w', 'rv_m', 'y']"
      ],
      "execution_count": null,
      "outputs": []
    },
    {
      "cell_type": "code",
      "metadata": {
        "colab": {
          "base_uri": "https://localhost:8080/",
          "height": 419
        },
        "id": "yl9Usmvs1E7W",
        "outputId": "a8c447d5-c5ea-4ca3-98f0-89607a42e00a"
      },
      "source": [
        "sp500_RV"
      ],
      "execution_count": null,
      "outputs": [
        {
          "output_type": "execute_result",
          "data": {
            "text/html": [
              "<div>\n",
              "<style scoped>\n",
              "    .dataframe tbody tr th:only-of-type {\n",
              "        vertical-align: middle;\n",
              "    }\n",
              "\n",
              "    .dataframe tbody tr th {\n",
              "        vertical-align: top;\n",
              "    }\n",
              "\n",
              "    .dataframe thead th {\n",
              "        text-align: right;\n",
              "    }\n",
              "</style>\n",
              "<table border=\"1\" class=\"dataframe\">\n",
              "  <thead>\n",
              "    <tr style=\"text-align: right;\">\n",
              "      <th></th>\n",
              "      <th>rv_d</th>\n",
              "      <th>rv_w</th>\n",
              "      <th>rv_m</th>\n",
              "      <th>y</th>\n",
              "    </tr>\n",
              "  </thead>\n",
              "  <tbody>\n",
              "    <tr>\n",
              "      <th>21</th>\n",
              "      <td>0.004020</td>\n",
              "      <td>0.003949</td>\n",
              "      <td>0.003819</td>\n",
              "      <td>0.002837</td>\n",
              "    </tr>\n",
              "    <tr>\n",
              "      <th>22</th>\n",
              "      <td>0.002837</td>\n",
              "      <td>0.004002</td>\n",
              "      <td>0.003678</td>\n",
              "      <td>0.002499</td>\n",
              "    </tr>\n",
              "    <tr>\n",
              "      <th>23</th>\n",
              "      <td>0.002499</td>\n",
              "      <td>0.003606</td>\n",
              "      <td>0.003626</td>\n",
              "      <td>0.002756</td>\n",
              "    </tr>\n",
              "    <tr>\n",
              "      <th>24</th>\n",
              "      <td>0.002756</td>\n",
              "      <td>0.003330</td>\n",
              "      <td>0.003595</td>\n",
              "      <td>0.003490</td>\n",
              "    </tr>\n",
              "    <tr>\n",
              "      <th>25</th>\n",
              "      <td>0.003490</td>\n",
              "      <td>0.003120</td>\n",
              "      <td>0.003578</td>\n",
              "      <td>0.002516</td>\n",
              "    </tr>\n",
              "    <tr>\n",
              "      <th>...</th>\n",
              "      <td>...</td>\n",
              "      <td>...</td>\n",
              "      <td>...</td>\n",
              "      <td>...</td>\n",
              "    </tr>\n",
              "    <tr>\n",
              "      <th>903</th>\n",
              "      <td>0.005776</td>\n",
              "      <td>0.006365</td>\n",
              "      <td>0.006691</td>\n",
              "      <td>0.002907</td>\n",
              "    </tr>\n",
              "    <tr>\n",
              "      <th>904</th>\n",
              "      <td>0.002907</td>\n",
              "      <td>0.005808</td>\n",
              "      <td>0.006326</td>\n",
              "      <td>0.005748</td>\n",
              "    </tr>\n",
              "    <tr>\n",
              "      <th>905</th>\n",
              "      <td>0.005748</td>\n",
              "      <td>0.005031</td>\n",
              "      <td>0.006247</td>\n",
              "      <td>0.005488</td>\n",
              "    </tr>\n",
              "    <tr>\n",
              "      <th>906</th>\n",
              "      <td>0.005488</td>\n",
              "      <td>0.005014</td>\n",
              "      <td>0.006264</td>\n",
              "      <td>0.004251</td>\n",
              "    </tr>\n",
              "    <tr>\n",
              "      <th>907</th>\n",
              "      <td>0.004251</td>\n",
              "      <td>0.004834</td>\n",
              "      <td>0.006153</td>\n",
              "      <td>0.004413</td>\n",
              "    </tr>\n",
              "  </tbody>\n",
              "</table>\n",
              "<p>887 rows × 4 columns</p>\n",
              "</div>"
            ],
            "text/plain": [
              "         rv_d      rv_w      rv_m         y\n",
              "21   0.004020  0.003949  0.003819  0.002837\n",
              "22   0.002837  0.004002  0.003678  0.002499\n",
              "23   0.002499  0.003606  0.003626  0.002756\n",
              "24   0.002756  0.003330  0.003595  0.003490\n",
              "25   0.003490  0.003120  0.003578  0.002516\n",
              "..        ...       ...       ...       ...\n",
              "903  0.005776  0.006365  0.006691  0.002907\n",
              "904  0.002907  0.005808  0.006326  0.005748\n",
              "905  0.005748  0.005031  0.006247  0.005488\n",
              "906  0.005488  0.005014  0.006264  0.004251\n",
              "907  0.004251  0.004834  0.006153  0.004413\n",
              "\n",
              "[887 rows x 4 columns]"
            ]
          },
          "metadata": {
            "tags": []
          },
          "execution_count": 8
        }
      ]
    },
    {
      "cell_type": "markdown",
      "metadata": {
        "id": "Dlssigtc4stQ"
      },
      "source": [
        "## LSTM"
      ]
    },
    {
      "cell_type": "code",
      "metadata": {
        "id": "_t_st-US1Foq"
      },
      "source": [
        "def split_xy3(dataset, time_steps, y_column):\n",
        "  x, y = list(), list()\n",
        "  for i in range(len(dataset)):\n",
        "    x_end_number = i + time_steps\n",
        "    y_end_number = x_end_number + y_column - 1\n",
        "    if y_end_number > len(dataset):\n",
        "      break\n",
        "    tmp_x = dataset[i:x_end_number, :-1]\n",
        "    tmp_y = dataset[x_end_number-1:y_end_number, -1]\n",
        "    x.append(tmp_x)\n",
        "    y.append(tmp_y)\n",
        "  return np.array(x), np.array(y)"
      ],
      "execution_count": null,
      "outputs": []
    },
    {
      "cell_type": "code",
      "metadata": {
        "id": "Vx7w6OE3zf7_"
      },
      "source": [
        "x, y = split_xy3(np.array(sp500_RV), 20, 1)"
      ],
      "execution_count": null,
      "outputs": []
    },
    {
      "cell_type": "code",
      "metadata": {
        "colab": {
          "base_uri": "https://localhost:8080/"
        },
        "id": "X3dnsOar0hIl",
        "outputId": "4ad93810-6cbd-4778-f8c5-e126e21aad9c"
      },
      "source": [
        "print(x.shape)\n",
        "print(y.shape)"
      ],
      "execution_count": null,
      "outputs": [
        {
          "output_type": "stream",
          "text": [
            "(868, 20, 3)\n",
            "(868, 1)\n"
          ],
          "name": "stdout"
        }
      ]
    },
    {
      "cell_type": "code",
      "metadata": {
        "id": "LYWmvdcf1WGl"
      },
      "source": [
        "from keras.models import Sequential\n",
        "from keras.layers import Dense, LSTM"
      ],
      "execution_count": null,
      "outputs": []
    },
    {
      "cell_type": "code",
      "metadata": {
        "id": "Y6zCWTzR0-1d"
      },
      "source": [
        "model = Sequential()\n",
        "model.add(LSTM(64, input_shape=(20, 3)))\n",
        "model.add(Dense(1))"
      ],
      "execution_count": null,
      "outputs": []
    },
    {
      "cell_type": "code",
      "metadata": {
        "colab": {
          "background_save": true,
          "base_uri": "https://localhost:8080/"
        },
        "id": "haovZLvf1bGV",
        "outputId": "ed6a87ed-f93b-41d2-a483-89aa3c81b62b"
      },
      "source": [
        "model.compile(optimizer='adam', loss='mse')\n",
        "model.fit(x, y, epochs=20, batch_size=1)"
      ],
      "execution_count": null,
      "outputs": [
        {
          "output_type": "stream",
          "text": [
            "Epoch 1/300\n",
            "868/868 [==============================] - 6s 5ms/step - loss: 2.6455e-05\n",
            "Epoch 2/300\n",
            "868/868 [==============================] - 4s 5ms/step - loss: 2.0842e-05\n",
            "Epoch 3/300\n",
            "868/868 [==============================] - 4s 5ms/step - loss: 1.8652e-05\n",
            "Epoch 4/300\n",
            "868/868 [==============================] - 4s 5ms/step - loss: 1.5814e-05\n",
            "Epoch 5/300\n",
            "868/868 [==============================] - 4s 5ms/step - loss: 1.1374e-05\n",
            "Epoch 6/300\n",
            "868/868 [==============================] - 4s 5ms/step - loss: 1.3442e-05\n",
            "Epoch 7/300\n",
            "868/868 [==============================] - 4s 5ms/step - loss: 1.3553e-05\n",
            "Epoch 8/300\n",
            "868/868 [==============================] - 4s 5ms/step - loss: 1.4429e-05\n",
            "Epoch 9/300\n",
            "868/868 [==============================] - 4s 5ms/step - loss: 1.7120e-05\n",
            "Epoch 10/300\n",
            "868/868 [==============================] - 4s 5ms/step - loss: 2.3254e-05\n",
            "Epoch 11/300\n",
            "868/868 [==============================] - 4s 5ms/step - loss: 1.1747e-05\n",
            "Epoch 12/300\n",
            "868/868 [==============================] - 4s 5ms/step - loss: 1.7441e-05\n",
            "Epoch 13/300\n",
            "868/868 [==============================] - 4s 5ms/step - loss: 1.2386e-05\n",
            "Epoch 14/300\n",
            "868/868 [==============================] - 4s 5ms/step - loss: 1.3806e-05\n",
            "Epoch 15/300\n",
            "868/868 [==============================] - 4s 5ms/step - loss: 1.1139e-05\n",
            "Epoch 16/300\n",
            "868/868 [==============================] - 4s 5ms/step - loss: 1.1131e-05\n",
            "Epoch 17/300\n",
            "868/868 [==============================] - 4s 5ms/step - loss: 1.3759e-05\n",
            "Epoch 18/300\n",
            "868/868 [==============================] - 4s 5ms/step - loss: 1.1199e-05\n",
            "Epoch 19/300\n",
            "868/868 [==============================] - 4s 5ms/step - loss: 1.0393e-05\n",
            "Epoch 20/300\n",
            "868/868 [==============================] - 4s 5ms/step - loss: 1.0414e-05\n",
            "Epoch 21/300\n",
            "868/868 [==============================] - 4s 5ms/step - loss: 1.0695e-05\n",
            "Epoch 22/300\n",
            "868/868 [==============================] - 4s 5ms/step - loss: 1.3154e-05\n",
            "Epoch 23/300\n",
            "868/868 [==============================] - 4s 5ms/step - loss: 1.4637e-05\n",
            "Epoch 24/300\n",
            "868/868 [==============================] - 4s 5ms/step - loss: 1.1633e-05\n",
            "Epoch 25/300\n",
            "868/868 [==============================] - 4s 5ms/step - loss: 1.9314e-05\n",
            "Epoch 26/300\n",
            "868/868 [==============================] - 4s 5ms/step - loss: 1.3996e-05\n",
            "Epoch 27/300\n",
            "868/868 [==============================] - 4s 5ms/step - loss: 1.2846e-05\n",
            "Epoch 28/300\n",
            "868/868 [==============================] - 4s 5ms/step - loss: 1.4602e-05\n",
            "Epoch 29/300\n",
            "868/868 [==============================] - 4s 5ms/step - loss: 1.4954e-05\n",
            "Epoch 30/300\n",
            "868/868 [==============================] - 4s 5ms/step - loss: 1.2235e-05\n",
            "Epoch 31/300\n",
            "868/868 [==============================] - 4s 5ms/step - loss: 1.4688e-05\n",
            "Epoch 32/300\n",
            "868/868 [==============================] - 4s 5ms/step - loss: 2.1225e-05\n",
            "Epoch 33/300\n",
            "868/868 [==============================] - 4s 5ms/step - loss: 1.1748e-05\n",
            "Epoch 34/300\n",
            "868/868 [==============================] - 4s 5ms/step - loss: 1.2230e-05\n",
            "Epoch 35/300\n",
            "868/868 [==============================] - 4s 5ms/step - loss: 1.4935e-05\n",
            "Epoch 36/300\n",
            "868/868 [==============================] - 4s 5ms/step - loss: 9.6838e-06\n",
            "Epoch 37/300\n",
            "868/868 [==============================] - 4s 5ms/step - loss: 1.1855e-05\n",
            "Epoch 38/300\n",
            "868/868 [==============================] - 4s 5ms/step - loss: 1.2348e-05\n",
            "Epoch 39/300\n",
            "868/868 [==============================] - 4s 5ms/step - loss: 9.2409e-06\n",
            "Epoch 40/300\n",
            "868/868 [==============================] - 4s 5ms/step - loss: 1.7382e-05\n",
            "Epoch 41/300\n",
            "868/868 [==============================] - 4s 5ms/step - loss: 1.0773e-05\n",
            "Epoch 42/300\n",
            "868/868 [==============================] - 4s 5ms/step - loss: 8.2926e-06\n",
            "Epoch 43/300\n",
            "868/868 [==============================] - 4s 5ms/step - loss: 1.1260e-05\n",
            "Epoch 44/300\n",
            "868/868 [==============================] - 4s 5ms/step - loss: 1.3493e-05\n",
            "Epoch 45/300\n",
            "868/868 [==============================] - 4s 5ms/step - loss: 1.0715e-05\n",
            "Epoch 46/300\n",
            "868/868 [==============================] - 4s 5ms/step - loss: 1.4343e-05\n",
            "Epoch 47/300\n",
            "868/868 [==============================] - 4s 5ms/step - loss: 1.2497e-05\n",
            "Epoch 48/300\n",
            "868/868 [==============================] - 4s 5ms/step - loss: 9.4708e-06\n",
            "Epoch 49/300\n",
            "868/868 [==============================] - 4s 5ms/step - loss: 1.0792e-05\n",
            "Epoch 50/300\n",
            "868/868 [==============================] - 4s 5ms/step - loss: 1.1393e-05\n",
            "Epoch 51/300\n",
            "868/868 [==============================] - 4s 5ms/step - loss: 1.1778e-05\n",
            "Epoch 52/300\n",
            "868/868 [==============================] - 4s 5ms/step - loss: 1.3586e-05\n",
            "Epoch 53/300\n",
            "868/868 [==============================] - 4s 5ms/step - loss: 1.1211e-05\n",
            "Epoch 54/300\n",
            "868/868 [==============================] - 4s 5ms/step - loss: 1.1993e-05\n",
            "Epoch 55/300\n",
            "868/868 [==============================] - 4s 5ms/step - loss: 1.2061e-05\n",
            "Epoch 56/300\n",
            "868/868 [==============================] - 4s 5ms/step - loss: 1.1493e-05\n",
            "Epoch 57/300\n",
            "868/868 [==============================] - 4s 5ms/step - loss: 1.4874e-05\n",
            "Epoch 58/300\n",
            "868/868 [==============================] - 4s 5ms/step - loss: 1.1752e-05\n",
            "Epoch 59/300\n",
            "868/868 [==============================] - 4s 5ms/step - loss: 1.1127e-05\n",
            "Epoch 60/300\n",
            "868/868 [==============================] - 4s 5ms/step - loss: 1.2535e-05\n",
            "Epoch 61/300\n",
            "868/868 [==============================] - 4s 5ms/step - loss: 1.1536e-05\n",
            "Epoch 62/300\n",
            "868/868 [==============================] - 4s 5ms/step - loss: 1.2635e-05\n",
            "Epoch 63/300\n",
            "868/868 [==============================] - 4s 5ms/step - loss: 1.0954e-05\n",
            "Epoch 64/300\n",
            "868/868 [==============================] - 4s 5ms/step - loss: 9.8863e-06\n",
            "Epoch 65/300\n",
            "868/868 [==============================] - 4s 5ms/step - loss: 1.1181e-05\n",
            "Epoch 66/300\n",
            "868/868 [==============================] - 4s 5ms/step - loss: 1.2545e-05\n",
            "Epoch 67/300\n",
            "868/868 [==============================] - 4s 5ms/step - loss: 1.3644e-05\n",
            "Epoch 68/300\n",
            "868/868 [==============================] - 4s 5ms/step - loss: 1.2629e-05\n",
            "Epoch 69/300\n",
            "868/868 [==============================] - 4s 5ms/step - loss: 1.2134e-05\n",
            "Epoch 70/300\n",
            "868/868 [==============================] - 4s 5ms/step - loss: 1.6717e-05\n",
            "Epoch 71/300\n",
            "868/868 [==============================] - 4s 5ms/step - loss: 9.4112e-06\n",
            "Epoch 72/300\n",
            "868/868 [==============================] - 4s 5ms/step - loss: 1.1692e-05\n",
            "Epoch 73/300\n",
            "868/868 [==============================] - 4s 5ms/step - loss: 1.2161e-05\n",
            "Epoch 74/300\n",
            "868/868 [==============================] - 4s 5ms/step - loss: 1.7273e-05\n",
            "Epoch 75/300\n",
            "868/868 [==============================] - 4s 5ms/step - loss: 1.2409e-05\n",
            "Epoch 76/300\n",
            "868/868 [==============================] - 4s 5ms/step - loss: 1.1055e-05\n",
            "Epoch 77/300\n",
            "868/868 [==============================] - 4s 5ms/step - loss: 1.2956e-05\n",
            "Epoch 78/300\n",
            "868/868 [==============================] - 4s 5ms/step - loss: 1.0119e-05\n",
            "Epoch 79/300\n",
            "868/868 [==============================] - 4s 5ms/step - loss: 1.1920e-05\n",
            "Epoch 80/300\n",
            "868/868 [==============================] - 4s 5ms/step - loss: 1.4127e-05\n",
            "Epoch 81/300\n",
            "868/868 [==============================] - 4s 5ms/step - loss: 1.0937e-05\n",
            "Epoch 82/300\n",
            "868/868 [==============================] - 4s 5ms/step - loss: 1.1555e-05\n",
            "Epoch 83/300\n",
            "868/868 [==============================] - 5s 5ms/step - loss: 8.9526e-06\n",
            "Epoch 84/300\n",
            "868/868 [==============================] - 4s 5ms/step - loss: 1.2735e-05\n",
            "Epoch 85/300\n",
            "868/868 [==============================] - 4s 5ms/step - loss: 8.8698e-06\n",
            "Epoch 86/300\n",
            "868/868 [==============================] - 4s 5ms/step - loss: 1.3070e-05\n",
            "Epoch 87/300\n",
            "868/868 [==============================] - 4s 5ms/step - loss: 9.8661e-06\n",
            "Epoch 88/300\n",
            "868/868 [==============================] - 4s 5ms/step - loss: 1.2069e-05\n",
            "Epoch 89/300\n",
            "868/868 [==============================] - 4s 5ms/step - loss: 1.1128e-05\n",
            "Epoch 90/300\n",
            "868/868 [==============================] - 4s 5ms/step - loss: 1.4422e-05\n",
            "Epoch 91/300\n",
            "868/868 [==============================] - 4s 5ms/step - loss: 1.5049e-05\n",
            "Epoch 92/300\n",
            "868/868 [==============================] - 4s 5ms/step - loss: 1.2363e-05\n",
            "Epoch 93/300\n",
            "868/868 [==============================] - 4s 5ms/step - loss: 1.2232e-05\n",
            "Epoch 94/300\n",
            "868/868 [==============================] - 4s 5ms/step - loss: 9.3524e-06\n",
            "Epoch 95/300\n",
            "868/868 [==============================] - 4s 5ms/step - loss: 1.0613e-05\n",
            "Epoch 96/300\n",
            "868/868 [==============================] - 4s 5ms/step - loss: 9.8364e-06\n",
            "Epoch 97/300\n",
            "868/868 [==============================] - 4s 5ms/step - loss: 1.1529e-05\n",
            "Epoch 98/300\n",
            "868/868 [==============================] - 4s 5ms/step - loss: 1.0073e-05\n",
            "Epoch 99/300\n",
            "868/868 [==============================] - 4s 5ms/step - loss: 1.4656e-05\n",
            "Epoch 100/300\n",
            "868/868 [==============================] - 4s 5ms/step - loss: 1.0449e-05\n",
            "Epoch 101/300\n",
            "868/868 [==============================] - 4s 5ms/step - loss: 1.0446e-05\n",
            "Epoch 102/300\n",
            "868/868 [==============================] - 4s 5ms/step - loss: 1.0275e-05\n",
            "Epoch 103/300\n",
            "868/868 [==============================] - 4s 5ms/step - loss: 1.4661e-05\n",
            "Epoch 104/300\n",
            "868/868 [==============================] - 4s 5ms/step - loss: 1.3031e-05\n",
            "Epoch 105/300\n",
            "868/868 [==============================] - 4s 5ms/step - loss: 1.0502e-05\n",
            "Epoch 106/300\n",
            "868/868 [==============================] - 4s 5ms/step - loss: 9.4854e-06\n",
            "Epoch 107/300\n",
            "868/868 [==============================] - 4s 5ms/step - loss: 1.4049e-05\n",
            "Epoch 108/300\n",
            "868/868 [==============================] - 4s 5ms/step - loss: 8.2325e-06\n",
            "Epoch 109/300\n",
            "868/868 [==============================] - 4s 5ms/step - loss: 8.8492e-06\n",
            "Epoch 110/300\n",
            "868/868 [==============================] - 4s 5ms/step - loss: 9.6586e-06\n",
            "Epoch 111/300\n",
            "868/868 [==============================] - 4s 5ms/step - loss: 1.2795e-05\n",
            "Epoch 112/300\n",
            "868/868 [==============================] - 4s 5ms/step - loss: 1.1771e-05\n",
            "Epoch 113/300\n",
            "868/868 [==============================] - 4s 5ms/step - loss: 1.0468e-05\n",
            "Epoch 114/300\n",
            "868/868 [==============================] - 4s 5ms/step - loss: 1.0009e-05\n",
            "Epoch 115/300\n",
            "868/868 [==============================] - 4s 5ms/step - loss: 1.4115e-05\n",
            "Epoch 116/300\n",
            "868/868 [==============================] - 4s 5ms/step - loss: 9.0788e-06\n",
            "Epoch 117/300\n",
            "868/868 [==============================] - 4s 5ms/step - loss: 1.4505e-05\n",
            "Epoch 118/300\n",
            "868/868 [==============================] - 4s 5ms/step - loss: 1.3849e-05\n",
            "Epoch 119/300\n",
            "868/868 [==============================] - 4s 5ms/step - loss: 9.7152e-06\n",
            "Epoch 120/300\n",
            "868/868 [==============================] - 4s 5ms/step - loss: 1.4129e-05\n",
            "Epoch 121/300\n",
            "868/868 [==============================] - 4s 5ms/step - loss: 9.7415e-06\n",
            "Epoch 122/300\n",
            "868/868 [==============================] - 4s 5ms/step - loss: 1.1142e-05\n",
            "Epoch 123/300\n",
            "868/868 [==============================] - 4s 5ms/step - loss: 1.5280e-05\n",
            "Epoch 124/300\n",
            "868/868 [==============================] - 4s 5ms/step - loss: 9.1324e-06\n",
            "Epoch 125/300\n",
            "868/868 [==============================] - 4s 5ms/step - loss: 1.2706e-05\n",
            "Epoch 126/300\n",
            "868/868 [==============================] - 4s 5ms/step - loss: 1.4493e-05\n",
            "Epoch 127/300\n",
            "868/868 [==============================] - 4s 5ms/step - loss: 8.8916e-06\n",
            "Epoch 128/300\n",
            "868/868 [==============================] - 4s 5ms/step - loss: 1.4847e-05\n",
            "Epoch 129/300\n",
            "868/868 [==============================] - 4s 5ms/step - loss: 7.6267e-06\n",
            "Epoch 130/300\n",
            "868/868 [==============================] - 4s 5ms/step - loss: 9.3350e-06\n",
            "Epoch 131/300\n",
            "868/868 [==============================] - 4s 5ms/step - loss: 1.0017e-05\n",
            "Epoch 132/300\n",
            "868/868 [==============================] - 4s 5ms/step - loss: 1.2300e-05\n",
            "Epoch 133/300\n",
            "868/868 [==============================] - 4s 5ms/step - loss: 1.1783e-05\n",
            "Epoch 134/300\n",
            "868/868 [==============================] - 4s 5ms/step - loss: 1.2261e-05\n",
            "Epoch 135/300\n",
            "868/868 [==============================] - 4s 5ms/step - loss: 9.5464e-06\n",
            "Epoch 136/300\n",
            "868/868 [==============================] - 4s 5ms/step - loss: 1.2425e-05\n",
            "Epoch 137/300\n",
            "868/868 [==============================] - 4s 5ms/step - loss: 1.0967e-05\n",
            "Epoch 138/300\n",
            "868/868 [==============================] - 5s 5ms/step - loss: 1.1085e-05\n",
            "Epoch 139/300\n",
            "868/868 [==============================] - 4s 5ms/step - loss: 1.7469e-05\n",
            "Epoch 140/300\n",
            "868/868 [==============================] - 4s 5ms/step - loss: 1.5431e-05\n",
            "Epoch 141/300\n",
            "868/868 [==============================] - 4s 5ms/step - loss: 1.6724e-05\n",
            "Epoch 142/300\n",
            "868/868 [==============================] - 4s 5ms/step - loss: 1.3175e-05\n",
            "Epoch 143/300\n",
            "868/868 [==============================] - 4s 5ms/step - loss: 8.9780e-06\n",
            "Epoch 144/300\n",
            "868/868 [==============================] - 4s 5ms/step - loss: 8.2680e-06\n",
            "Epoch 145/300\n",
            "868/868 [==============================] - 4s 5ms/step - loss: 1.3485e-05\n",
            "Epoch 146/300\n",
            "868/868 [==============================] - 4s 5ms/step - loss: 1.1997e-05\n",
            "Epoch 147/300\n",
            "868/868 [==============================] - 4s 5ms/step - loss: 8.1965e-06\n",
            "Epoch 148/300\n",
            "868/868 [==============================] - 4s 5ms/step - loss: 1.0868e-05\n",
            "Epoch 149/300\n",
            "868/868 [==============================] - 4s 5ms/step - loss: 1.2206e-05\n",
            "Epoch 150/300\n",
            "868/868 [==============================] - 4s 5ms/step - loss: 8.6333e-06\n",
            "Epoch 151/300\n",
            "868/868 [==============================] - 4s 5ms/step - loss: 1.1131e-05\n",
            "Epoch 152/300\n",
            "868/868 [==============================] - 4s 5ms/step - loss: 1.3138e-05\n",
            "Epoch 153/300\n",
            "868/868 [==============================] - 4s 5ms/step - loss: 1.1603e-05\n",
            "Epoch 154/300\n",
            "868/868 [==============================] - 4s 5ms/step - loss: 1.0313e-05\n",
            "Epoch 155/300\n",
            "868/868 [==============================] - 4s 5ms/step - loss: 1.1621e-05\n",
            "Epoch 156/300\n",
            "868/868 [==============================] - 5s 5ms/step - loss: 1.2050e-05\n",
            "Epoch 157/300\n",
            "868/868 [==============================] - 4s 5ms/step - loss: 9.7594e-06\n",
            "Epoch 158/300\n",
            "868/868 [==============================] - 4s 5ms/step - loss: 1.5169e-05\n",
            "Epoch 159/300\n",
            "868/868 [==============================] - 4s 5ms/step - loss: 9.1529e-06\n",
            "Epoch 160/300\n",
            "868/868 [==============================] - 4s 5ms/step - loss: 1.0561e-05\n",
            "Epoch 161/300\n",
            "868/868 [==============================] - 4s 5ms/step - loss: 9.6700e-06\n",
            "Epoch 162/300\n",
            "868/868 [==============================] - 5s 5ms/step - loss: 1.0179e-05\n",
            "Epoch 163/300\n",
            "868/868 [==============================] - 4s 5ms/step - loss: 1.1945e-05\n",
            "Epoch 164/300\n",
            "868/868 [==============================] - 4s 5ms/step - loss: 1.2666e-05\n",
            "Epoch 165/300\n",
            "868/868 [==============================] - 4s 5ms/step - loss: 1.3064e-05\n",
            "Epoch 166/300\n",
            "868/868 [==============================] - 5s 5ms/step - loss: 1.0657e-05\n",
            "Epoch 167/300\n",
            "868/868 [==============================] - 4s 5ms/step - loss: 1.2079e-05\n",
            "Epoch 168/300\n",
            "868/868 [==============================] - 4s 5ms/step - loss: 1.1789e-05\n",
            "Epoch 169/300\n",
            "868/868 [==============================] - 4s 5ms/step - loss: 9.0105e-06\n",
            "Epoch 170/300\n",
            "868/868 [==============================] - 4s 5ms/step - loss: 1.0990e-05\n",
            "Epoch 171/300\n",
            "868/868 [==============================] - 4s 5ms/step - loss: 9.0835e-06\n",
            "Epoch 172/300\n",
            "868/868 [==============================] - 4s 5ms/step - loss: 1.0701e-05\n",
            "Epoch 173/300\n",
            "868/868 [==============================] - 4s 5ms/step - loss: 1.3419e-05\n",
            "Epoch 174/300\n",
            "868/868 [==============================] - 4s 5ms/step - loss: 9.5659e-06\n",
            "Epoch 175/300\n",
            "868/868 [==============================] - 4s 5ms/step - loss: 1.6805e-05\n",
            "Epoch 176/300\n",
            "868/868 [==============================] - 4s 5ms/step - loss: 8.5260e-06\n",
            "Epoch 177/300\n",
            "868/868 [==============================] - 4s 5ms/step - loss: 9.2449e-06\n",
            "Epoch 178/300\n",
            "868/868 [==============================] - 4s 5ms/step - loss: 1.0533e-05\n",
            "Epoch 179/300\n",
            "868/868 [==============================] - 4s 5ms/step - loss: 8.3375e-06\n",
            "Epoch 180/300\n",
            "868/868 [==============================] - 4s 5ms/step - loss: 1.0059e-05\n",
            "Epoch 181/300\n",
            "868/868 [==============================] - 4s 5ms/step - loss: 1.2294e-05\n",
            "Epoch 182/300\n",
            "868/868 [==============================] - 4s 5ms/step - loss: 9.9597e-06\n",
            "Epoch 183/300\n",
            "868/868 [==============================] - 4s 5ms/step - loss: 1.0773e-05\n",
            "Epoch 184/300\n",
            "868/868 [==============================] - 5s 5ms/step - loss: 1.0302e-05\n",
            "Epoch 185/300\n",
            "868/868 [==============================] - 4s 5ms/step - loss: 1.0656e-05\n",
            "Epoch 186/300\n",
            "868/868 [==============================] - 4s 5ms/step - loss: 1.4175e-05\n",
            "Epoch 187/300\n",
            "868/868 [==============================] - 5s 5ms/step - loss: 1.0321e-05\n",
            "Epoch 188/300\n",
            "868/868 [==============================] - 5s 5ms/step - loss: 9.8290e-06\n",
            "Epoch 189/300\n",
            "868/868 [==============================] - 5s 5ms/step - loss: 8.8836e-06\n",
            "Epoch 190/300\n",
            "868/868 [==============================] - 5s 5ms/step - loss: 1.4190e-05\n",
            "Epoch 191/300\n",
            "868/868 [==============================] - 5s 5ms/step - loss: 1.0418e-05\n",
            "Epoch 192/300\n",
            "868/868 [==============================] - 5s 5ms/step - loss: 1.2366e-05\n",
            "Epoch 193/300\n",
            "868/868 [==============================] - 5s 5ms/step - loss: 1.1712e-05\n",
            "Epoch 194/300\n",
            "868/868 [==============================] - 4s 5ms/step - loss: 9.6923e-06\n",
            "Epoch 195/300\n",
            "868/868 [==============================] - 5s 5ms/step - loss: 8.7402e-06\n",
            "Epoch 196/300\n",
            "868/868 [==============================] - 4s 5ms/step - loss: 9.4360e-06\n",
            "Epoch 197/300\n",
            "868/868 [==============================] - 5s 5ms/step - loss: 9.9743e-06\n",
            "Epoch 198/300\n",
            "868/868 [==============================] - 4s 5ms/step - loss: 1.2686e-05\n",
            "Epoch 199/300\n",
            "868/868 [==============================] - 4s 5ms/step - loss: 1.0312e-05\n",
            "Epoch 200/300\n",
            "868/868 [==============================] - 4s 5ms/step - loss: 1.0052e-05\n",
            "Epoch 201/300\n",
            "868/868 [==============================] - 5s 5ms/step - loss: 1.0889e-05\n",
            "Epoch 202/300\n",
            "868/868 [==============================] - 4s 5ms/step - loss: 1.2828e-05\n",
            "Epoch 203/300\n",
            "868/868 [==============================] - 4s 5ms/step - loss: 9.8596e-06\n",
            "Epoch 204/300\n",
            "868/868 [==============================] - 5s 5ms/step - loss: 1.2058e-05\n",
            "Epoch 205/300\n",
            "868/868 [==============================] - 5s 5ms/step - loss: 9.9305e-06\n",
            "Epoch 206/300\n",
            "868/868 [==============================] - 4s 5ms/step - loss: 1.6028e-05\n",
            "Epoch 207/300\n",
            "868/868 [==============================] - 4s 5ms/step - loss: 1.0791e-05\n",
            "Epoch 208/300\n",
            "868/868 [==============================] - 4s 5ms/step - loss: 9.3845e-06\n",
            "Epoch 209/300\n",
            "868/868 [==============================] - 5s 5ms/step - loss: 1.3335e-05\n",
            "Epoch 210/300\n",
            "868/868 [==============================] - 4s 5ms/step - loss: 1.3059e-05\n",
            "Epoch 211/300\n",
            "868/868 [==============================] - 4s 5ms/step - loss: 1.4357e-05\n",
            "Epoch 212/300\n",
            "868/868 [==============================] - 4s 5ms/step - loss: 1.2664e-05\n",
            "Epoch 213/300\n",
            "868/868 [==============================] - 4s 5ms/step - loss: 1.2441e-05\n",
            "Epoch 214/300\n",
            "868/868 [==============================] - 4s 5ms/step - loss: 1.1173e-05\n",
            "Epoch 215/300\n",
            "868/868 [==============================] - 5s 5ms/step - loss: 8.9816e-06\n",
            "Epoch 216/300\n",
            "868/868 [==============================] - 5s 5ms/step - loss: 1.1763e-05\n",
            "Epoch 217/300\n",
            "868/868 [==============================] - 4s 5ms/step - loss: 8.5220e-06\n",
            "Epoch 218/300\n",
            "868/868 [==============================] - 5s 5ms/step - loss: 9.7622e-06\n",
            "Epoch 219/300\n",
            "868/868 [==============================] - 5s 5ms/step - loss: 9.6713e-06\n",
            "Epoch 220/300\n",
            "868/868 [==============================] - 5s 5ms/step - loss: 9.6505e-06\n",
            "Epoch 221/300\n",
            "868/868 [==============================] - 5s 5ms/step - loss: 7.9186e-06\n",
            "Epoch 222/300\n",
            "868/868 [==============================] - 5s 5ms/step - loss: 6.6444e-06\n",
            "Epoch 223/300\n",
            "868/868 [==============================] - 5s 5ms/step - loss: 1.1692e-05\n",
            "Epoch 224/300\n",
            "868/868 [==============================] - 5s 5ms/step - loss: 9.3500e-06\n",
            "Epoch 225/300\n",
            "868/868 [==============================] - 5s 5ms/step - loss: 1.2417e-05\n",
            "Epoch 226/300\n",
            "868/868 [==============================] - 5s 5ms/step - loss: 1.0057e-05\n",
            "Epoch 227/300\n",
            "868/868 [==============================] - 5s 5ms/step - loss: 9.6756e-06\n",
            "Epoch 228/300\n",
            "868/868 [==============================] - 5s 5ms/step - loss: 9.0888e-06\n",
            "Epoch 229/300\n",
            "868/868 [==============================] - 5s 5ms/step - loss: 1.1651e-05\n",
            "Epoch 230/300\n",
            "868/868 [==============================] - 5s 5ms/step - loss: 9.8727e-06\n",
            "Epoch 231/300\n",
            "868/868 [==============================] - 5s 5ms/step - loss: 1.2316e-05\n",
            "Epoch 232/300\n",
            "868/868 [==============================] - 5s 5ms/step - loss: 1.5979e-05\n",
            "Epoch 233/300\n",
            "868/868 [==============================] - 5s 5ms/step - loss: 1.1431e-05\n",
            "Epoch 234/300\n",
            "868/868 [==============================] - 5s 5ms/step - loss: 9.6507e-06\n",
            "Epoch 235/300\n",
            "868/868 [==============================] - 5s 5ms/step - loss: 1.3760e-05\n",
            "Epoch 236/300\n",
            "868/868 [==============================] - 4s 5ms/step - loss: 1.1346e-05\n",
            "Epoch 237/300\n",
            "868/868 [==============================] - 5s 5ms/step - loss: 1.2339e-05\n",
            "Epoch 238/300\n",
            "868/868 [==============================] - 5s 5ms/step - loss: 1.3050e-05\n",
            "Epoch 239/300\n",
            "868/868 [==============================] - 5s 5ms/step - loss: 9.9819e-06\n",
            "Epoch 240/300\n",
            "868/868 [==============================] - 4s 5ms/step - loss: 1.1803e-05\n",
            "Epoch 241/300\n",
            "868/868 [==============================] - 5s 5ms/step - loss: 9.9602e-06\n",
            "Epoch 242/300\n",
            "868/868 [==============================] - 5s 5ms/step - loss: 1.4473e-05\n",
            "Epoch 243/300\n",
            "868/868 [==============================] - 5s 5ms/step - loss: 1.1901e-05\n",
            "Epoch 244/300\n",
            "868/868 [==============================] - 5s 5ms/step - loss: 1.1106e-05\n",
            "Epoch 245/300\n",
            "868/868 [==============================] - 5s 5ms/step - loss: 1.1657e-05\n",
            "Epoch 246/300\n",
            "868/868 [==============================] - 5s 5ms/step - loss: 1.1980e-05\n",
            "Epoch 247/300\n",
            "868/868 [==============================] - 5s 5ms/step - loss: 1.1091e-05\n",
            "Epoch 248/300\n",
            "868/868 [==============================] - 4s 5ms/step - loss: 1.1068e-05\n",
            "Epoch 249/300\n",
            "868/868 [==============================] - 5s 5ms/step - loss: 8.2979e-06\n",
            "Epoch 250/300\n",
            "868/868 [==============================] - 5s 5ms/step - loss: 1.1266e-05\n",
            "Epoch 251/300\n",
            "868/868 [==============================] - 5s 5ms/step - loss: 1.1767e-05\n",
            "Epoch 252/300\n",
            "868/868 [==============================] - 4s 5ms/step - loss: 1.1424e-05\n",
            "Epoch 253/300\n",
            "868/868 [==============================] - 5s 5ms/step - loss: 1.0895e-05\n",
            "Epoch 254/300\n",
            "868/868 [==============================] - 5s 5ms/step - loss: 9.8975e-06\n",
            "Epoch 255/300\n",
            "868/868 [==============================] - 5s 5ms/step - loss: 1.3519e-05\n",
            "Epoch 256/300\n",
            "868/868 [==============================] - 5s 5ms/step - loss: 9.5736e-06\n",
            "Epoch 257/300\n",
            "868/868 [==============================] - 5s 5ms/step - loss: 1.0066e-05\n",
            "Epoch 258/300\n",
            "868/868 [==============================] - 5s 5ms/step - loss: 1.2817e-05\n",
            "Epoch 259/300\n",
            "868/868 [==============================] - 5s 5ms/step - loss: 1.2502e-05\n",
            "Epoch 260/300\n",
            "868/868 [==============================] - 5s 5ms/step - loss: 8.9828e-06\n",
            "Epoch 261/300\n",
            "868/868 [==============================] - 5s 5ms/step - loss: 1.2814e-05\n",
            "Epoch 262/300\n",
            "868/868 [==============================] - 5s 5ms/step - loss: 1.1984e-05\n",
            "Epoch 263/300\n",
            "868/868 [==============================] - 5s 5ms/step - loss: 1.4362e-05\n",
            "Epoch 264/300\n",
            "868/868 [==============================] - 5s 5ms/step - loss: 1.3054e-05\n",
            "Epoch 265/300\n",
            "868/868 [==============================] - 5s 5ms/step - loss: 9.9778e-06\n",
            "Epoch 266/300\n",
            "868/868 [==============================] - 5s 5ms/step - loss: 1.2804e-05\n",
            "Epoch 267/300\n",
            "868/868 [==============================] - 5s 5ms/step - loss: 1.0010e-05\n",
            "Epoch 268/300\n",
            "868/868 [==============================] - 5s 5ms/step - loss: 8.8364e-06\n",
            "Epoch 269/300\n",
            "868/868 [==============================] - 5s 5ms/step - loss: 2.0860e-05\n",
            "Epoch 270/300\n",
            "868/868 [==============================] - 5s 5ms/step - loss: 1.5928e-05\n",
            "Epoch 271/300\n",
            "868/868 [==============================] - 5s 5ms/step - loss: 1.0041e-05\n",
            "Epoch 272/300\n",
            "868/868 [==============================] - 5s 5ms/step - loss: 1.0140e-05\n",
            "Epoch 273/300\n",
            "868/868 [==============================] - 5s 5ms/step - loss: 9.5359e-06\n",
            "Epoch 274/300\n",
            "868/868 [==============================] - 5s 5ms/step - loss: 1.2299e-05\n",
            "Epoch 275/300\n",
            "868/868 [==============================] - 5s 5ms/step - loss: 1.1604e-05\n",
            "Epoch 276/300\n",
            "868/868 [==============================] - 4s 5ms/step - loss: 1.0856e-05\n",
            "Epoch 277/300\n",
            "868/868 [==============================] - 5s 5ms/step - loss: 9.6636e-06\n",
            "Epoch 278/300\n",
            "868/868 [==============================] - 5s 5ms/step - loss: 9.0182e-06\n",
            "Epoch 279/300\n",
            "868/868 [==============================] - 5s 5ms/step - loss: 1.0148e-05\n",
            "Epoch 280/300\n",
            "868/868 [==============================] - 5s 5ms/step - loss: 1.1314e-05\n",
            "Epoch 281/300\n",
            "868/868 [==============================] - 5s 5ms/step - loss: 1.0278e-05\n",
            "Epoch 282/300\n",
            "868/868 [==============================] - 5s 5ms/step - loss: 8.8336e-06\n",
            "Epoch 283/300\n",
            "868/868 [==============================] - 5s 5ms/step - loss: 8.0831e-06\n",
            "Epoch 284/300\n",
            "868/868 [==============================] - 5s 5ms/step - loss: 1.2641e-05\n",
            "Epoch 285/300\n",
            "868/868 [==============================] - 5s 5ms/step - loss: 1.2420e-05\n",
            "Epoch 286/300\n",
            "868/868 [==============================] - 4s 5ms/step - loss: 1.1303e-05\n",
            "Epoch 287/300\n",
            "868/868 [==============================] - 4s 5ms/step - loss: 1.1654e-05\n",
            "Epoch 288/300\n",
            "868/868 [==============================] - 5s 5ms/step - loss: 2.3250e-05\n",
            "Epoch 289/300\n",
            "868/868 [==============================] - 5s 5ms/step - loss: 1.4108e-05\n",
            "Epoch 290/300\n",
            "868/868 [==============================] - 5s 5ms/step - loss: 9.3385e-06\n",
            "Epoch 291/300\n",
            "868/868 [==============================] - 5s 5ms/step - loss: 1.1947e-05\n",
            "Epoch 292/300\n",
            "868/868 [==============================] - 5s 5ms/step - loss: 1.0719e-05\n",
            "Epoch 293/300\n",
            "868/868 [==============================] - 5s 5ms/step - loss: 9.0131e-06\n",
            "Epoch 294/300\n",
            "868/868 [==============================] - 5s 5ms/step - loss: 1.1577e-05\n",
            "Epoch 295/300\n",
            "868/868 [==============================] - 5s 5ms/step - loss: 9.1682e-06\n",
            "Epoch 296/300\n",
            "868/868 [==============================] - 5s 5ms/step - loss: 9.1121e-06\n",
            "Epoch 297/300\n",
            "868/868 [==============================] - 5s 5ms/step - loss: 9.0912e-06\n",
            "Epoch 298/300\n",
            "868/868 [==============================] - 5s 5ms/step - loss: 1.1079e-05\n",
            "Epoch 299/300\n",
            "868/868 [==============================] - 5s 5ms/step - loss: 8.4466e-06\n",
            "Epoch 300/300\n",
            "868/868 [==============================] - 5s 5ms/step - loss: 9.0829e-06\n"
          ],
          "name": "stdout"
        },
        {
          "output_type": "execute_result",
          "data": {
            "text/plain": [
              "<tensorflow.python.keras.callbacks.History at 0x7f3d7436f390>"
            ]
          },
          "metadata": {
            "tags": []
          },
          "execution_count": 0
        }
      ]
    },
    {
      "cell_type": "code",
      "metadata": {
        "colab": {
          "background_save": true
        },
        "id": "x_d7LzHD1i3U"
      },
      "source": [
        "predict_lstm = model.predict(x)"
      ],
      "execution_count": null,
      "outputs": []
    },
    {
      "cell_type": "markdown",
      "metadata": {
        "id": "pX4blAZ84oJz"
      },
      "source": [
        "## HAR"
      ]
    },
    {
      "cell_type": "code",
      "metadata": {
        "colab": {
          "base_uri": "https://localhost:8080/",
          "height": 540
        },
        "id": "631IrJTw3k0J",
        "outputId": "088e01c0-df21-4836-a19f-b16a1ce16080"
      },
      "source": [
        "import statsmodels.api as sm\n",
        "\n",
        "X = sp500_RV[['rv_d', 'rv_w', 'rv_m']]\n",
        "X = sm.add_constant(X)\n",
        "y = sp500_RV['y']\n",
        "\n",
        "model = sm.OLS(y, X).fit()\n",
        "predictions = model.predict(X) \n",
        "\n",
        "# Print out the statistics\n",
        "model.summary()"
      ],
      "execution_count": null,
      "outputs": [
        {
          "output_type": "stream",
          "text": [
            "/usr/local/lib/python3.7/dist-packages/statsmodels/tools/_testing.py:19: FutureWarning: pandas.util.testing is deprecated. Use the functions in the public API at pandas.testing instead.\n",
            "  import pandas.util.testing as tm\n"
          ],
          "name": "stderr"
        },
        {
          "output_type": "execute_result",
          "data": {
            "text/html": [
              "<table class=\"simpletable\">\n",
              "<caption>OLS Regression Results</caption>\n",
              "<tr>\n",
              "  <th>Dep. Variable:</th>            <td>y</td>        <th>  R-squared:         </th> <td>   0.780</td> \n",
              "</tr>\n",
              "<tr>\n",
              "  <th>Model:</th>                   <td>OLS</td>       <th>  Adj. R-squared:    </th> <td>   0.779</td> \n",
              "</tr>\n",
              "<tr>\n",
              "  <th>Method:</th>             <td>Least Squares</td>  <th>  F-statistic:       </th> <td>   1041.</td> \n",
              "</tr>\n",
              "<tr>\n",
              "  <th>Date:</th>             <td>Sat, 24 Apr 2021</td> <th>  Prob (F-statistic):</th> <td>2.55e-289</td>\n",
              "</tr>\n",
              "<tr>\n",
              "  <th>Time:</th>                 <td>21:52:21</td>     <th>  Log-Likelihood:    </th> <td>  3846.7</td> \n",
              "</tr>\n",
              "<tr>\n",
              "  <th>No. Observations:</th>      <td>   887</td>      <th>  AIC:               </th> <td>  -7685.</td> \n",
              "</tr>\n",
              "<tr>\n",
              "  <th>Df Residuals:</th>          <td>   883</td>      <th>  BIC:               </th> <td>  -7666.</td> \n",
              "</tr>\n",
              "<tr>\n",
              "  <th>Df Model:</th>              <td>     3</td>      <th>                     </th>     <td> </td>    \n",
              "</tr>\n",
              "<tr>\n",
              "  <th>Covariance Type:</th>      <td>nonrobust</td>    <th>                     </th>     <td> </td>    \n",
              "</tr>\n",
              "</table>\n",
              "<table class=\"simpletable\">\n",
              "<tr>\n",
              "    <td></td>       <th>coef</th>     <th>std err</th>      <th>t</th>      <th>P>|t|</th>  <th>[0.025</th>    <th>0.975]</th>  \n",
              "</tr>\n",
              "<tr>\n",
              "  <th>const</th> <td>    0.0006</td> <td>    0.000</td> <td>    3.623</td> <td> 0.000</td> <td>    0.000</td> <td>    0.001</td>\n",
              "</tr>\n",
              "<tr>\n",
              "  <th>rv_d</th>  <td>    0.4618</td> <td>    0.041</td> <td>   11.355</td> <td> 0.000</td> <td>    0.382</td> <td>    0.542</td>\n",
              "</tr>\n",
              "<tr>\n",
              "  <th>rv_w</th>  <td>    0.5266</td> <td>    0.054</td> <td>    9.720</td> <td> 0.000</td> <td>    0.420</td> <td>    0.633</td>\n",
              "</tr>\n",
              "<tr>\n",
              "  <th>rv_m</th>  <td>   -0.0791</td> <td>    0.034</td> <td>   -2.297</td> <td> 0.022</td> <td>   -0.147</td> <td>   -0.012</td>\n",
              "</tr>\n",
              "</table>\n",
              "<table class=\"simpletable\">\n",
              "<tr>\n",
              "  <th>Omnibus:</th>       <td>746.424</td> <th>  Durbin-Watson:     </th> <td>   2.076</td> \n",
              "</tr>\n",
              "<tr>\n",
              "  <th>Prob(Omnibus):</th> <td> 0.000</td>  <th>  Jarque-Bera (JB):  </th> <td>50933.809</td>\n",
              "</tr>\n",
              "<tr>\n",
              "  <th>Skew:</th>          <td> 3.350</td>  <th>  Prob(JB):          </th> <td>    0.00</td> \n",
              "</tr>\n",
              "<tr>\n",
              "  <th>Kurtosis:</th>      <td>39.514</td>  <th>  Cond. No.          </th> <td>    638.</td> \n",
              "</tr>\n",
              "</table><br/><br/>Warnings:<br/>[1] Standard Errors assume that the covariance matrix of the errors is correctly specified."
            ],
            "text/plain": [
              "<class 'statsmodels.iolib.summary.Summary'>\n",
              "\"\"\"\n",
              "                            OLS Regression Results                            \n",
              "==============================================================================\n",
              "Dep. Variable:                      y   R-squared:                       0.780\n",
              "Model:                            OLS   Adj. R-squared:                  0.779\n",
              "Method:                 Least Squares   F-statistic:                     1041.\n",
              "Date:                Sat, 24 Apr 2021   Prob (F-statistic):          2.55e-289\n",
              "Time:                        21:52:21   Log-Likelihood:                 3846.7\n",
              "No. Observations:                 887   AIC:                            -7685.\n",
              "Df Residuals:                     883   BIC:                            -7666.\n",
              "Df Model:                           3                                         \n",
              "Covariance Type:            nonrobust                                         \n",
              "==============================================================================\n",
              "                 coef    std err          t      P>|t|      [0.025      0.975]\n",
              "------------------------------------------------------------------------------\n",
              "const          0.0006      0.000      3.623      0.000       0.000       0.001\n",
              "rv_d           0.4618      0.041     11.355      0.000       0.382       0.542\n",
              "rv_w           0.5266      0.054      9.720      0.000       0.420       0.633\n",
              "rv_m          -0.0791      0.034     -2.297      0.022      -0.147      -0.012\n",
              "==============================================================================\n",
              "Omnibus:                      746.424   Durbin-Watson:                   2.076\n",
              "Prob(Omnibus):                  0.000   Jarque-Bera (JB):            50933.809\n",
              "Skew:                           3.350   Prob(JB):                         0.00\n",
              "Kurtosis:                      39.514   Cond. No.                         638.\n",
              "==============================================================================\n",
              "\n",
              "Warnings:\n",
              "[1] Standard Errors assume that the covariance matrix of the errors is correctly specified.\n",
              "\"\"\""
            ]
          },
          "metadata": {
            "tags": []
          },
          "execution_count": 30
        }
      ]
    },
    {
      "cell_type": "code",
      "metadata": {
        "id": "2_IJcM_z3A--"
      },
      "source": [
        "predict_har = model.predict(X)"
      ],
      "execution_count": null,
      "outputs": []
    },
    {
      "cell_type": "markdown",
      "metadata": {
        "id": "0m4Kf3hb4k7a"
      },
      "source": [
        "## 비교"
      ]
    },
    {
      "cell_type": "code",
      "metadata": {
        "colab": {
          "base_uri": "https://localhost:8080/",
          "height": 373
        },
        "id": "Ed6gLziX2lAa",
        "outputId": "cca7a00b-65c9-4456-fdc8-e75f66267315"
      },
      "source": [
        "plt.plot(sp500_RV.y[19:].values, label='RV', color='red')\n",
        "plt.plot(predict_lstm, label='LSTM', color='blue')\n",
        "#plt.plot(predict_har[19:].values, label='HAR')\n",
        "plt.legend()"
      ],
      "execution_count": null,
      "outputs": [
        {
          "output_type": "execute_result",
          "data": {
            "text/plain": [
              "<matplotlib.legend.Legend at 0x7f1baff6b750>"
            ]
          },
          "metadata": {
            "tags": []
          },
          "execution_count": 45
        },
        {
          "output_type": "display_data",
          "data": {
            "image/png": "[encoded data removed]",
            "text/plain": [
              "<Figure size 1152x504 with 1 Axes>"
            ]
          },
          "metadata": {
            "tags": []
          }
        }
      ]
    },
    {
      "cell_type": "code",
      "metadata": {
        "colab": {
          "base_uri": "https://localhost:8080/",
          "height": 373
        },
        "id": "BON3EpIc4YU3",
        "outputId": "80ede5ef-7c5d-43f8-cbdb-deb00d57d454"
      },
      "source": [
        "#plt.plot(predict_lstm, label='LSTM')\n",
        "plt.plot(sp500_RV.y[19:].values, label='RV', color='red')\n",
        "plt.plot(predict_har[19:].values, label='HAR', color='green')\n",
        "plt.legend()"
      ],
      "execution_count": null,
      "outputs": [
        {
          "output_type": "execute_result",
          "data": {
            "text/plain": [
              "<matplotlib.legend.Legend at 0x7f1baff7b8d0>"
            ]
          },
          "metadata": {
            "tags": []
          },
          "execution_count": 44
        },
        {
          "output_type": "display_data",
          "data": {
            "image/png": "[encoded data removed]",
            "text/plain": [
              "<Figure size 1152x504 with 1 Axes>"
            ]
          },
          "metadata": {
            "tags": []
          }
        }
      ]
    },
    {
      "cell_type": "code",
      "metadata": {
        "colab": {
          "base_uri": "https://localhost:8080/",
          "height": 80
        },
        "id": "h5KhCtId3yIt",
        "outputId": "a785b3ef-693c-4824-9c05-1cdda0fee099"
      },
      "source": [
        "# mse\n",
        "lstm_mse = np.mean((sp500_RV.y[19:].values - predict_lstm)**2)\n",
        "har_mse = np.mean((sp500_RV.y[19:].values - predict_har[19:].values)**2)\n",
        "\n",
        "pd.DataFrame({'lstm':lstm_mse, 'har':har_mse}, index=['mse'])"
      ],
      "execution_count": null,
      "outputs": [
        {
          "output_type": "execute_result",
          "data": {
            "text/html": [
              "<div>\n",
              "<style scoped>\n",
              "    .dataframe tbody tr th:only-of-type {\n",
              "        vertical-align: middle;\n",
              "    }\n",
              "\n",
              "    .dataframe tbody tr th {\n",
              "        vertical-align: top;\n",
              "    }\n",
              "\n",
              "    .dataframe thead th {\n",
              "        text-align: right;\n",
              "    }\n",
              "</style>\n",
              "<table border=\"1\" class=\"dataframe\">\n",
              "  <thead>\n",
              "    <tr style=\"text-align: right;\">\n",
              "      <th></th>\n",
              "      <th>lstm</th>\n",
              "      <th>har</th>\n",
              "    </tr>\n",
              "  </thead>\n",
              "  <tbody>\n",
              "    <tr>\n",
              "      <th>mse</th>\n",
              "      <td>0.000079</td>\n",
              "      <td>0.00001</td>\n",
              "    </tr>\n",
              "  </tbody>\n",
              "</table>\n",
              "</div>"
            ],
            "text/plain": [
              "         lstm      har\n",
              "mse  0.000079  0.00001"
            ]
          },
          "metadata": {
            "tags": []
          },
          "execution_count": 59
        }
      ]
    }
  ]
}
