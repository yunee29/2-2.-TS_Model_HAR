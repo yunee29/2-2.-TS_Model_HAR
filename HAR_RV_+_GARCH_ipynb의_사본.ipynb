{
  "nbformat": 4,
  "nbformat_minor": 0,
  "metadata": {
    "colab": {
      "name": "HAR-RV + GARCH.ipynb의 사본",
      "provenance": [],
      "collapsed_sections": [],
      "machine_shape": "hm"
    },
    "kernelspec": {
      "name": "python3",
      "display_name": "Python 3"
    },
    "language_info": {
      "name": "python"
    },
    "accelerator": "GPU"
  },
  "cells": [
    {
      "cell_type": "code",
      "metadata": {
        "colab": {
          "base_uri": "https://localhost:8080/"
        },
        "id": "zNi-pRluEQSq",
        "outputId": "7e14961a-edcc-4b29-efc0-f3c273d3a7fc"
      },
      "source": [
        "from google.colab import drive\n",
        "\n",
        "drive.mount('/content/gdrive')"
      ],
      "execution_count": null,
      "outputs": [
        {
          "output_type": "stream",
          "text": [
            "Drive already mounted at /content/gdrive; to attempt to forcibly remount, call drive.mount(\"/content/gdrive\", force_remount=True).\n"
          ],
          "name": "stdout"
        }
      ]
    },
    {
      "cell_type": "code",
      "metadata": {
        "id": "DakL2WpXEdcn"
      },
      "source": [
        "import numpy as np\n",
        "import pandas as pd"
      ],
      "execution_count": null,
      "outputs": []
    },
    {
      "cell_type": "code",
      "metadata": {
        "id": "t8bV2lSuEuk0"
      },
      "source": [
        "import os\n",
        "\n",
        "os.chdir('/content/gdrive/MyDrive/2021_논문준비')"
      ],
      "execution_count": null,
      "outputs": []
    },
    {
      "cell_type": "code",
      "metadata": {
        "id": "wmdQK_CkE__h"
      },
      "source": [
        "series_all = pd.read_csv('S&P_170103_final.csv')"
      ],
      "execution_count": null,
      "outputs": []
    },
    {
      "cell_type": "code",
      "metadata": {
        "colab": {
          "base_uri": "https://localhost:8080/",
          "height": 199
        },
        "id": "c7xj5iWGFCsw",
        "outputId": "ba109173-f174-4e1d-f5d7-9683aa4683d0"
      },
      "source": [
        "series_all.head()"
      ],
      "execution_count": null,
      "outputs": [
        {
          "output_type": "execute_result",
          "data": {
            "text/html": [
              "<div>\n",
              "<style scoped>\n",
              "    .dataframe tbody tr th:only-of-type {\n",
              "        vertical-align: middle;\n",
              "    }\n",
              "\n",
              "    .dataframe tbody tr th {\n",
              "        vertical-align: top;\n",
              "    }\n",
              "\n",
              "    .dataframe thead th {\n",
              "        text-align: right;\n",
              "    }\n",
              "</style>\n",
              "<table border=\"1\" class=\"dataframe\">\n",
              "  <thead>\n",
              "    <tr style=\"text-align: right;\">\n",
              "      <th></th>\n",
              "      <th>date</th>\n",
              "      <th>snp</th>\n",
              "      <th>snp500</th>\n",
              "      <th>rv5</th>\n",
              "      <th>RV</th>\n",
              "    </tr>\n",
              "  </thead>\n",
              "  <tbody>\n",
              "    <tr>\n",
              "      <th>0</th>\n",
              "      <td>2017-01-03</td>\n",
              "      <td>8.14</td>\n",
              "      <td>6.80</td>\n",
              "      <td>0.000035</td>\n",
              "      <td>0.005941</td>\n",
              "    </tr>\n",
              "    <tr>\n",
              "      <th>1</th>\n",
              "      <td>2017-01-04</td>\n",
              "      <td>8.80</td>\n",
              "      <td>7.40</td>\n",
              "      <td>0.000013</td>\n",
              "      <td>0.003641</td>\n",
              "    </tr>\n",
              "    <tr>\n",
              "      <th>2</th>\n",
              "      <td>2017-01-05</td>\n",
              "      <td>8.36</td>\n",
              "      <td>6.50</td>\n",
              "      <td>0.000012</td>\n",
              "      <td>0.003433</td>\n",
              "    </tr>\n",
              "    <tr>\n",
              "      <th>3</th>\n",
              "      <td>2017-01-06</td>\n",
              "      <td>9.13</td>\n",
              "      <td>6.80</td>\n",
              "      <td>0.000015</td>\n",
              "      <td>0.003869</td>\n",
              "    </tr>\n",
              "    <tr>\n",
              "      <th>4</th>\n",
              "      <td>2017-01-09</td>\n",
              "      <td>8.47</td>\n",
              "      <td>7.04</td>\n",
              "      <td>0.000008</td>\n",
              "      <td>0.002840</td>\n",
              "    </tr>\n",
              "  </tbody>\n",
              "</table>\n",
              "</div>"
            ],
            "text/plain": [
              "         date   snp  snp500       rv5        RV\n",
              "0  2017-01-03  8.14    6.80  0.000035  0.005941\n",
              "1  2017-01-04  8.80    7.40  0.000013  0.003641\n",
              "2  2017-01-05  8.36    6.50  0.000012  0.003433\n",
              "3  2017-01-06  9.13    6.80  0.000015  0.003869\n",
              "4  2017-01-09  8.47    7.04  0.000008  0.002840"
            ]
          },
          "metadata": {
            "tags": []
          },
          "execution_count": 60
        }
      ]
    },
    {
      "cell_type": "code",
      "metadata": {
        "colab": {
          "base_uri": "https://localhost:8080/",
          "height": 410
        },
        "id": "i5PHtOQLCIVJ",
        "outputId": "d121cdc3-bf82-41a9-cdc8-1b6c88e6b448"
      },
      "source": [
        "series_all"
      ],
      "execution_count": null,
      "outputs": [
        {
          "output_type": "execute_result",
          "data": {
            "text/html": [
              "<div>\n",
              "<style scoped>\n",
              "    .dataframe tbody tr th:only-of-type {\n",
              "        vertical-align: middle;\n",
              "    }\n",
              "\n",
              "    .dataframe tbody tr th {\n",
              "        vertical-align: top;\n",
              "    }\n",
              "\n",
              "    .dataframe thead th {\n",
              "        text-align: right;\n",
              "    }\n",
              "</style>\n",
              "<table border=\"1\" class=\"dataframe\">\n",
              "  <thead>\n",
              "    <tr style=\"text-align: right;\">\n",
              "      <th></th>\n",
              "      <th>date</th>\n",
              "      <th>snp</th>\n",
              "      <th>snp500</th>\n",
              "      <th>rv5</th>\n",
              "      <th>RV</th>\n",
              "    </tr>\n",
              "  </thead>\n",
              "  <tbody>\n",
              "    <tr>\n",
              "      <th>0</th>\n",
              "      <td>2017-01-03</td>\n",
              "      <td>8.14</td>\n",
              "      <td>6.80</td>\n",
              "      <td>0.000035</td>\n",
              "      <td>0.005941</td>\n",
              "    </tr>\n",
              "    <tr>\n",
              "      <th>1</th>\n",
              "      <td>2017-01-04</td>\n",
              "      <td>8.80</td>\n",
              "      <td>7.40</td>\n",
              "      <td>0.000013</td>\n",
              "      <td>0.003641</td>\n",
              "    </tr>\n",
              "    <tr>\n",
              "      <th>2</th>\n",
              "      <td>2017-01-05</td>\n",
              "      <td>8.36</td>\n",
              "      <td>6.50</td>\n",
              "      <td>0.000012</td>\n",
              "      <td>0.003433</td>\n",
              "    </tr>\n",
              "    <tr>\n",
              "      <th>3</th>\n",
              "      <td>2017-01-06</td>\n",
              "      <td>9.13</td>\n",
              "      <td>6.80</td>\n",
              "      <td>0.000015</td>\n",
              "      <td>0.003869</td>\n",
              "    </tr>\n",
              "    <tr>\n",
              "      <th>4</th>\n",
              "      <td>2017-01-09</td>\n",
              "      <td>8.47</td>\n",
              "      <td>7.04</td>\n",
              "      <td>0.000008</td>\n",
              "      <td>0.002840</td>\n",
              "    </tr>\n",
              "    <tr>\n",
              "      <th>...</th>\n",
              "      <td>...</td>\n",
              "      <td>...</td>\n",
              "      <td>...</td>\n",
              "      <td>...</td>\n",
              "      <td>...</td>\n",
              "    </tr>\n",
              "    <tr>\n",
              "      <th>904</th>\n",
              "      <td>2020-08-17</td>\n",
              "      <td>25.23</td>\n",
              "      <td>25.20</td>\n",
              "      <td>0.000008</td>\n",
              "      <td>0.002907</td>\n",
              "    </tr>\n",
              "    <tr>\n",
              "      <th>905</th>\n",
              "      <td>2020-08-18</td>\n",
              "      <td>29.00</td>\n",
              "      <td>25.76</td>\n",
              "      <td>0.000033</td>\n",
              "      <td>0.005748</td>\n",
              "    </tr>\n",
              "    <tr>\n",
              "      <th>906</th>\n",
              "      <td>2020-08-19</td>\n",
              "      <td>26.10</td>\n",
              "      <td>28.00</td>\n",
              "      <td>0.000030</td>\n",
              "      <td>0.005488</td>\n",
              "    </tr>\n",
              "    <tr>\n",
              "      <th>907</th>\n",
              "      <td>2020-08-20</td>\n",
              "      <td>25.23</td>\n",
              "      <td>26.32</td>\n",
              "      <td>0.000018</td>\n",
              "      <td>0.004251</td>\n",
              "    </tr>\n",
              "    <tr>\n",
              "      <th>908</th>\n",
              "      <td>2020-08-21</td>\n",
              "      <td>26.68</td>\n",
              "      <td>24.92</td>\n",
              "      <td>0.000019</td>\n",
              "      <td>0.004413</td>\n",
              "    </tr>\n",
              "  </tbody>\n",
              "</table>\n",
              "<p>909 rows × 5 columns</p>\n",
              "</div>"
            ],
            "text/plain": [
              "           date    snp  snp500       rv5        RV\n",
              "0    2017-01-03   8.14    6.80  0.000035  0.005941\n",
              "1    2017-01-04   8.80    7.40  0.000013  0.003641\n",
              "2    2017-01-05   8.36    6.50  0.000012  0.003433\n",
              "3    2017-01-06   9.13    6.80  0.000015  0.003869\n",
              "4    2017-01-09   8.47    7.04  0.000008  0.002840\n",
              "..          ...    ...     ...       ...       ...\n",
              "904  2020-08-17  25.23   25.20  0.000008  0.002907\n",
              "905  2020-08-18  29.00   25.76  0.000033  0.005748\n",
              "906  2020-08-19  26.10   28.00  0.000030  0.005488\n",
              "907  2020-08-20  25.23   26.32  0.000018  0.004251\n",
              "908  2020-08-21  26.68   24.92  0.000019  0.004413\n",
              "\n",
              "[909 rows x 5 columns]"
            ]
          },
          "metadata": {
            "tags": []
          },
          "execution_count": 61
        }
      ]
    },
    {
      "cell_type": "markdown",
      "metadata": {
        "id": "q_FL-Vd7GT85"
      },
      "source": [
        "rv5 : 5분 변동성  \n",
        "RV : sqrt(rv5) "
      ]
    },
    {
      "cell_type": "code",
      "metadata": {
        "id": "UV_j_DSHFIzd"
      },
      "source": [
        "import matplotlib.pyplot as plt"
      ],
      "execution_count": null,
      "outputs": []
    },
    {
      "cell_type": "code",
      "metadata": {
        "colab": {
          "base_uri": "https://localhost:8080/",
          "height": 282
        },
        "id": "g03b8M3gFOht",
        "outputId": "5a2c868c-e514-4539-be30-b58097a0807b"
      },
      "source": [
        "plt.plot(series_all.rv5)"
      ],
      "execution_count": null,
      "outputs": [
        {
          "output_type": "execute_result",
          "data": {
            "text/plain": [
              "[<matplotlib.lines.Line2D at 0x7f72f3708650>]"
            ]
          },
          "metadata": {
            "tags": []
          },
          "execution_count": 63
        },
        {
          "output_type": "display_data",
          "data": {
            "image/png": "[encoded data removed]",
            "text/plain": [
              "<Figure size 432x288 with 1 Axes>"
            ]
          },
          "metadata": {
            "tags": [],
            "needs_background": "light"
          }
        }
      ]
    },
    {
      "cell_type": "code",
      "metadata": {
        "colab": {
          "base_uri": "https://localhost:8080/",
          "height": 282
        },
        "id": "8RJfh4XWFcz8",
        "outputId": "62760a5b-b483-4b3e-9bb5-272045dc94be"
      },
      "source": [
        "plt.plot(series_all.RV)"
      ],
      "execution_count": null,
      "outputs": [
        {
          "output_type": "execute_result",
          "data": {
            "text/plain": [
              "[<matplotlib.lines.Line2D at 0x7f72f366b350>]"
            ]
          },
          "metadata": {
            "tags": []
          },
          "execution_count": 64
        },
        {
          "output_type": "display_data",
          "data": {
            "image/png": "[encoded data removed]",
            "text/plain": [
              "<Figure size 432x288 with 1 Axes>"
            ]
          },
          "metadata": {
            "tags": [],
            "needs_background": "light"
          }
        }
      ]
    },
    {
      "cell_type": "code",
      "metadata": {
        "id": "BUAvkuyJGhQ-"
      },
      "source": [
        "RV=series_all.RV"
      ],
      "execution_count": null,
      "outputs": []
    },
    {
      "cell_type": "code",
      "metadata": {
        "colab": {
          "base_uri": "https://localhost:8080/",
          "height": 545
        },
        "id": "FyGuKOYRFgTy",
        "outputId": "c88bd1dc-d5b3-4dfe-f0cd-e9dc9f70f9f9"
      },
      "source": [
        "from statsmodels.graphics.tsaplots import plot_acf, plot_pacf\n",
        "series = np.log(series_all.snp).diff(1).dropna()\n",
        "plot_acf(series)"
      ],
      "execution_count": null,
      "outputs": [
        {
          "output_type": "execute_result",
          "data": {
            "image/png": "[encoded data removed]",
            "text/plain": [
              "<Figure size 432x288 with 1 Axes>"
            ]
          },
          "metadata": {
            "tags": []
          },
          "execution_count": 66
        },
        {
          "output_type": "display_data",
          "data": {
            "image/png": "[encoded data removed]",
            "text/plain": [
              "<Figure size 432x288 with 1 Axes>"
            ]
          },
          "metadata": {
            "tags": [],
            "needs_background": "light"
          }
        }
      ]
    },
    {
      "cell_type": "code",
      "metadata": {
        "colab": {
          "base_uri": "https://localhost:8080/",
          "height": 545
        },
        "id": "5QYjx_IIF1N1",
        "outputId": "6dbe1b7f-9b4f-4e8a-e687-afe63c3b3c22"
      },
      "source": [
        "plot_acf(RV)"
      ],
      "execution_count": null,
      "outputs": [
        {
          "output_type": "execute_result",
          "data": {
            "image/png": "[encoded data removed]",
            "text/plain": [
              "<Figure size 432x288 with 1 Axes>"
            ]
          },
          "metadata": {
            "tags": []
          },
          "execution_count": 67
        },
        {
          "output_type": "display_data",
          "data": {
            "image/png": "[encoded data removed]",
            "text/plain": [
              "<Figure size 432x288 with 1 Axes>"
            ]
          },
          "metadata": {
            "tags": [],
            "needs_background": "light"
          }
        }
      ]
    },
    {
      "cell_type": "markdown",
      "metadata": {
        "id": "hhSLpa3nGYJz"
      },
      "source": [
        "RV의 장기기억성"
      ]
    },
    {
      "cell_type": "code",
      "metadata": {
        "colab": {
          "base_uri": "https://localhost:8080/"
        },
        "id": "v2vYOEtBGBYo",
        "outputId": "7c9211a2-619a-4d6b-a14b-1077ba6fcc46"
      },
      "source": [
        "from statsmodels.tsa.stattools import adfuller\n",
        "adfuller(RV)"
      ],
      "execution_count": null,
      "outputs": [
        {
          "output_type": "execute_result",
          "data": {
            "text/plain": [
              "(-4.071428040008977,\n",
              " 0.0010793775619100797,\n",
              " 9,\n",
              " 899,\n",
              " {'1%': -3.4376448499903653,\n",
              "  '10%': -2.568484710325773,\n",
              "  '5%': -2.8647603105890442},\n",
              " -7740.601709763598)"
            ]
          },
          "metadata": {
            "tags": []
          },
          "execution_count": 68
        }
      ]
    },
    {
      "cell_type": "markdown",
      "metadata": {
        "id": "KPQ048NhHiDE"
      },
      "source": [
        "## RV의 기술통계량"
      ]
    },
    {
      "cell_type": "code",
      "metadata": {
        "colab": {
          "base_uri": "https://localhost:8080/"
        },
        "id": "WsZiW5UwGLkr",
        "outputId": "0ab03276-5e12-48c9-9f57-2864f235f72b"
      },
      "source": [
        "RV.describe()"
      ],
      "execution_count": null,
      "outputs": [
        {
          "output_type": "execute_result",
          "data": {
            "text/plain": [
              "count    909.000000\n",
              "mean       0.006715\n",
              "std        0.006679\n",
              "min        0.001104\n",
              "25%        0.003265\n",
              "50%        0.004716\n",
              "75%        0.007599\n",
              "max        0.064444\n",
              "Name: RV, dtype: float64"
            ]
          },
          "metadata": {
            "tags": []
          },
          "execution_count": 69
        }
      ]
    },
    {
      "cell_type": "code",
      "metadata": {
        "colab": {
          "base_uri": "https://localhost:8080/"
        },
        "id": "afu4EvBiGyP6",
        "outputId": "b3b1f699-0792-4cd8-ca08-aca74cfd5e2f"
      },
      "source": [
        "from scipy.stats import skew, kurtosis\n",
        "\n",
        "# 왜도\n",
        "skew(RV)\n"
      ],
      "execution_count": null,
      "outputs": [
        {
          "output_type": "execute_result",
          "data": {
            "text/plain": [
              "4.252681168898018"
            ]
          },
          "metadata": {
            "tags": []
          },
          "execution_count": 70
        }
      ]
    },
    {
      "cell_type": "code",
      "metadata": {
        "colab": {
          "base_uri": "https://localhost:8080/"
        },
        "id": "qWFGOi-ZHLf7",
        "outputId": "8cdc7dcd-ae30-4171-fb18-020bd5028ed9"
      },
      "source": [
        "# 첨도\n",
        "kurtosis(RV, fisher=True)"
      ],
      "execution_count": null,
      "outputs": [
        {
          "output_type": "execute_result",
          "data": {
            "text/plain": [
              "24.73931143913172"
            ]
          },
          "metadata": {
            "tags": []
          },
          "execution_count": 71
        }
      ]
    },
    {
      "cell_type": "code",
      "metadata": {
        "colab": {
          "base_uri": "https://localhost:8080/",
          "height": 405
        },
        "id": "aahtABiQHNGS",
        "outputId": "449433f2-458f-476c-e4ea-0db484b65b41"
      },
      "source": [
        "plt.boxplot(RV)"
      ],
      "execution_count": null,
      "outputs": [
        {
          "output_type": "execute_result",
          "data": {
            "text/plain": [
              "{'boxes': [<matplotlib.lines.Line2D at 0x7f72f35606d0>],\n",
              " 'caps': [<matplotlib.lines.Line2D at 0x7f72f3564790>,\n",
              "  <matplotlib.lines.Line2D at 0x7f72f3564cd0>],\n",
              " 'fliers': [<matplotlib.lines.Line2D at 0x7f72f34ec7d0>],\n",
              " 'means': [],\n",
              " 'medians': [<matplotlib.lines.Line2D at 0x7f72f34ec290>],\n",
              " 'whiskers': [<matplotlib.lines.Line2D at 0x7f72f3560cd0>,\n",
              "  <matplotlib.lines.Line2D at 0x7f72f3564250>]}"
            ]
          },
          "metadata": {
            "tags": []
          },
          "execution_count": 72
        },
        {
          "output_type": "display_data",
          "data": {
            "image/png": "[encoded data removed]",
            "text/plain": [
              "<Figure size 432x288 with 1 Axes>"
            ]
          },
          "metadata": {
            "tags": [],
            "needs_background": "light"
          }
        }
      ]
    },
    {
      "cell_type": "markdown",
      "metadata": {
        "id": "0piMt1IkHlnl"
      },
      "source": [
        "## HAR(3)-RV"
      ]
    },
    {
      "cell_type": "code",
      "metadata": {
        "colab": {
          "base_uri": "https://localhost:8080/"
        },
        "id": "B0_Yydbc35xV",
        "outputId": "730f2292-b82c-42c1-85cd-7ceabba64b22"
      },
      "source": [
        "RV"
      ],
      "execution_count": null,
      "outputs": [
        {
          "output_type": "execute_result",
          "data": {
            "text/plain": [
              "0      0.005941\n",
              "1      0.003641\n",
              "2      0.003433\n",
              "3      0.003869\n",
              "4      0.002840\n",
              "         ...   \n",
              "904    0.002907\n",
              "905    0.005748\n",
              "906    0.005488\n",
              "907    0.004251\n",
              "908    0.004413\n",
              "Name: RV, Length: 909, dtype: float64"
            ]
          },
          "metadata": {
            "tags": []
          },
          "execution_count": 73
        }
      ]
    },
    {
      "cell_type": "code",
      "metadata": {
        "id": "9kCEwXySHbHm"
      },
      "source": [
        "rv_22 = RV.rolling(22).mean().dropna()[:-1].values\n",
        "rv_5 = RV.rolling(5).mean()[21:-1].values\n",
        "rv_1 = RV[21:-1].values\n",
        "\n",
        "y = RV[22:].values\n",
        "\n",
        "lm_data=pd.DataFrame({'RV':y, 'RV_1':rv_1, 'RV_5':rv_5, 'RV_22':rv_22})"
      ],
      "execution_count": null,
      "outputs": []
    },
    {
      "cell_type": "code",
      "metadata": {
        "colab": {
          "base_uri": "https://localhost:8080/",
          "height": 410
        },
        "id": "iEvL6dHz1w2j",
        "outputId": "1a718a85-aac5-44d0-aa75-e3b55f5338fd"
      },
      "source": [
        "lm_data"
      ],
      "execution_count": null,
      "outputs": [
        {
          "output_type": "execute_result",
          "data": {
            "text/html": [
              "<div>\n",
              "<style scoped>\n",
              "    .dataframe tbody tr th:only-of-type {\n",
              "        vertical-align: middle;\n",
              "    }\n",
              "\n",
              "    .dataframe tbody tr th {\n",
              "        vertical-align: top;\n",
              "    }\n",
              "\n",
              "    .dataframe thead th {\n",
              "        text-align: right;\n",
              "    }\n",
              "</style>\n",
              "<table border=\"1\" class=\"dataframe\">\n",
              "  <thead>\n",
              "    <tr style=\"text-align: right;\">\n",
              "      <th></th>\n",
              "      <th>RV</th>\n",
              "      <th>RV_1</th>\n",
              "      <th>RV_5</th>\n",
              "      <th>RV_22</th>\n",
              "    </tr>\n",
              "  </thead>\n",
              "  <tbody>\n",
              "    <tr>\n",
              "      <th>0</th>\n",
              "      <td>0.002837</td>\n",
              "      <td>0.004020</td>\n",
              "      <td>0.003949</td>\n",
              "      <td>0.003819</td>\n",
              "    </tr>\n",
              "    <tr>\n",
              "      <th>1</th>\n",
              "      <td>0.002499</td>\n",
              "      <td>0.002837</td>\n",
              "      <td>0.004002</td>\n",
              "      <td>0.003678</td>\n",
              "    </tr>\n",
              "    <tr>\n",
              "      <th>2</th>\n",
              "      <td>0.002756</td>\n",
              "      <td>0.002499</td>\n",
              "      <td>0.003606</td>\n",
              "      <td>0.003626</td>\n",
              "    </tr>\n",
              "    <tr>\n",
              "      <th>3</th>\n",
              "      <td>0.003490</td>\n",
              "      <td>0.002756</td>\n",
              "      <td>0.003330</td>\n",
              "      <td>0.003595</td>\n",
              "    </tr>\n",
              "    <tr>\n",
              "      <th>4</th>\n",
              "      <td>0.002516</td>\n",
              "      <td>0.003490</td>\n",
              "      <td>0.003120</td>\n",
              "      <td>0.003578</td>\n",
              "    </tr>\n",
              "    <tr>\n",
              "      <th>...</th>\n",
              "      <td>...</td>\n",
              "      <td>...</td>\n",
              "      <td>...</td>\n",
              "      <td>...</td>\n",
              "    </tr>\n",
              "    <tr>\n",
              "      <th>882</th>\n",
              "      <td>0.002907</td>\n",
              "      <td>0.005776</td>\n",
              "      <td>0.006365</td>\n",
              "      <td>0.006691</td>\n",
              "    </tr>\n",
              "    <tr>\n",
              "      <th>883</th>\n",
              "      <td>0.005748</td>\n",
              "      <td>0.002907</td>\n",
              "      <td>0.005808</td>\n",
              "      <td>0.006326</td>\n",
              "    </tr>\n",
              "    <tr>\n",
              "      <th>884</th>\n",
              "      <td>0.005488</td>\n",
              "      <td>0.005748</td>\n",
              "      <td>0.005031</td>\n",
              "      <td>0.006247</td>\n",
              "    </tr>\n",
              "    <tr>\n",
              "      <th>885</th>\n",
              "      <td>0.004251</td>\n",
              "      <td>0.005488</td>\n",
              "      <td>0.005014</td>\n",
              "      <td>0.006264</td>\n",
              "    </tr>\n",
              "    <tr>\n",
              "      <th>886</th>\n",
              "      <td>0.004413</td>\n",
              "      <td>0.004251</td>\n",
              "      <td>0.004834</td>\n",
              "      <td>0.006153</td>\n",
              "    </tr>\n",
              "  </tbody>\n",
              "</table>\n",
              "<p>887 rows × 4 columns</p>\n",
              "</div>"
            ],
            "text/plain": [
              "           RV      RV_1      RV_5     RV_22\n",
              "0    0.002837  0.004020  0.003949  0.003819\n",
              "1    0.002499  0.002837  0.004002  0.003678\n",
              "2    0.002756  0.002499  0.003606  0.003626\n",
              "3    0.003490  0.002756  0.003330  0.003595\n",
              "4    0.002516  0.003490  0.003120  0.003578\n",
              "..        ...       ...       ...       ...\n",
              "882  0.002907  0.005776  0.006365  0.006691\n",
              "883  0.005748  0.002907  0.005808  0.006326\n",
              "884  0.005488  0.005748  0.005031  0.006247\n",
              "885  0.004251  0.005488  0.005014  0.006264\n",
              "886  0.004413  0.004251  0.004834  0.006153\n",
              "\n",
              "[887 rows x 4 columns]"
            ]
          },
          "metadata": {
            "tags": []
          },
          "execution_count": 75
        }
      ]
    },
    {
      "cell_type": "code",
      "metadata": {
        "colab": {
          "base_uri": "https://localhost:8080/",
          "height": 467
        },
        "id": "WeFUNuw-KZDT",
        "outputId": "d66373fc-a655-4d26-cefb-8de26c812f72"
      },
      "source": [
        "import statsmodels.api as sm\n",
        "x=lm_data[['RV_1', 'RV_5', 'RV_22']]\n",
        "x = sm.add_constant(x)\n",
        "y=lm_data['RV']\n",
        "\n",
        "lm = sm.OLS(y, x)\n",
        "results = lm.fit()\n",
        "results.summary()"
      ],
      "execution_count": null,
      "outputs": [
        {
          "output_type": "execute_result",
          "data": {
            "text/html": [
              "<table class=\"simpletable\">\n",
              "<caption>OLS Regression Results</caption>\n",
              "<tr>\n",
              "  <th>Dep. Variable:</th>           <td>RV</td>        <th>  R-squared:         </th> <td>   0.780</td> \n",
              "</tr>\n",
              "<tr>\n",
              "  <th>Model:</th>                   <td>OLS</td>       <th>  Adj. R-squared:    </th> <td>   0.779</td> \n",
              "</tr>\n",
              "<tr>\n",
              "  <th>Method:</th>             <td>Least Squares</td>  <th>  F-statistic:       </th> <td>   1041.</td> \n",
              "</tr>\n",
              "<tr>\n",
              "  <th>Date:</th>             <td>Tue, 20 Apr 2021</td> <th>  Prob (F-statistic):</th> <td>2.55e-289</td>\n",
              "</tr>\n",
              "<tr>\n",
              "  <th>Time:</th>                 <td>04:42:49</td>     <th>  Log-Likelihood:    </th> <td>  3846.7</td> \n",
              "</tr>\n",
              "<tr>\n",
              "  <th>No. Observations:</th>      <td>   887</td>      <th>  AIC:               </th> <td>  -7685.</td> \n",
              "</tr>\n",
              "<tr>\n",
              "  <th>Df Residuals:</th>          <td>   883</td>      <th>  BIC:               </th> <td>  -7666.</td> \n",
              "</tr>\n",
              "<tr>\n",
              "  <th>Df Model:</th>              <td>     3</td>      <th>                     </th>     <td> </td>    \n",
              "</tr>\n",
              "<tr>\n",
              "  <th>Covariance Type:</th>      <td>nonrobust</td>    <th>                     </th>     <td> </td>    \n",
              "</tr>\n",
              "</table>\n",
              "<table class=\"simpletable\">\n",
              "<tr>\n",
              "    <td></td>       <th>coef</th>     <th>std err</th>      <th>t</th>      <th>P>|t|</th>  <th>[0.025</th>    <th>0.975]</th>  \n",
              "</tr>\n",
              "<tr>\n",
              "  <th>const</th> <td>    0.0006</td> <td>    0.000</td> <td>    3.623</td> <td> 0.000</td> <td>    0.000</td> <td>    0.001</td>\n",
              "</tr>\n",
              "<tr>\n",
              "  <th>RV_1</th>  <td>    0.4618</td> <td>    0.041</td> <td>   11.355</td> <td> 0.000</td> <td>    0.382</td> <td>    0.542</td>\n",
              "</tr>\n",
              "<tr>\n",
              "  <th>RV_5</th>  <td>    0.5266</td> <td>    0.054</td> <td>    9.720</td> <td> 0.000</td> <td>    0.420</td> <td>    0.633</td>\n",
              "</tr>\n",
              "<tr>\n",
              "  <th>RV_22</th> <td>   -0.0791</td> <td>    0.034</td> <td>   -2.297</td> <td> 0.022</td> <td>   -0.147</td> <td>   -0.012</td>\n",
              "</tr>\n",
              "</table>\n",
              "<table class=\"simpletable\">\n",
              "<tr>\n",
              "  <th>Omnibus:</th>       <td>746.424</td> <th>  Durbin-Watson:     </th> <td>   2.076</td> \n",
              "</tr>\n",
              "<tr>\n",
              "  <th>Prob(Omnibus):</th> <td> 0.000</td>  <th>  Jarque-Bera (JB):  </th> <td>50933.809</td>\n",
              "</tr>\n",
              "<tr>\n",
              "  <th>Skew:</th>          <td> 3.350</td>  <th>  Prob(JB):          </th> <td>    0.00</td> \n",
              "</tr>\n",
              "<tr>\n",
              "  <th>Kurtosis:</th>      <td>39.514</td>  <th>  Cond. No.          </th> <td>    638.</td> \n",
              "</tr>\n",
              "</table><br/><br/>Notes:<br/>[1] Standard Errors assume that the covariance matrix of the errors is correctly specified."
            ],
            "text/plain": [
              "<class 'statsmodels.iolib.summary.Summary'>\n",
              "\"\"\"\n",
              "                            OLS Regression Results                            \n",
              "==============================================================================\n",
              "Dep. Variable:                     RV   R-squared:                       0.780\n",
              "Model:                            OLS   Adj. R-squared:                  0.779\n",
              "Method:                 Least Squares   F-statistic:                     1041.\n",
              "Date:                Tue, 20 Apr 2021   Prob (F-statistic):          2.55e-289\n",
              "Time:                        04:42:49   Log-Likelihood:                 3846.7\n",
              "No. Observations:                 887   AIC:                            -7685.\n",
              "Df Residuals:                     883   BIC:                            -7666.\n",
              "Df Model:                           3                                         \n",
              "Covariance Type:            nonrobust                                         \n",
              "==============================================================================\n",
              "                 coef    std err          t      P>|t|      [0.025      0.975]\n",
              "------------------------------------------------------------------------------\n",
              "const          0.0006      0.000      3.623      0.000       0.000       0.001\n",
              "RV_1           0.4618      0.041     11.355      0.000       0.382       0.542\n",
              "RV_5           0.5266      0.054      9.720      0.000       0.420       0.633\n",
              "RV_22         -0.0791      0.034     -2.297      0.022      -0.147      -0.012\n",
              "==============================================================================\n",
              "Omnibus:                      746.424   Durbin-Watson:                   2.076\n",
              "Prob(Omnibus):                  0.000   Jarque-Bera (JB):            50933.809\n",
              "Skew:                           3.350   Prob(JB):                         0.00\n",
              "Kurtosis:                      39.514   Cond. No.                         638.\n",
              "==============================================================================\n",
              "\n",
              "Notes:\n",
              "[1] Standard Errors assume that the covariance matrix of the errors is correctly specified.\n",
              "\"\"\""
            ]
          },
          "metadata": {
            "tags": []
          },
          "execution_count": 76
        }
      ]
    },
    {
      "cell_type": "code",
      "metadata": {
        "id": "WSHFiC3tK91O"
      },
      "source": [
        "\n",
        "\n",
        "rv_22_p = RV.rolling(22).mean().dropna().values[-1]\n",
        "rv_5_p = RV.rolling(5).mean()[21:].values[-1]\n",
        "rv_1_p = RV.values[-1]\n",
        "pred_data=pd.DataFrame({'RV_1':rv_1_p, 'RV_5':rv_5_p, 'RV_22':rv_22_p},index=[0])\n"
      ],
      "execution_count": null,
      "outputs": []
    },
    {
      "cell_type": "code",
      "metadata": {
        "id": "-U4LBprC4SN_"
      },
      "source": [
        "X_pred=pd.concat([pd.DataFrame([1.0]),pred_data[['RV_1', 'RV_5', 'RV_22']]],axis=1)"
      ],
      "execution_count": null,
      "outputs": []
    },
    {
      "cell_type": "code",
      "metadata": {
        "colab": {
          "base_uri": "https://localhost:8080/",
          "height": 78
        },
        "id": "Sts4c2uT4cOM",
        "outputId": "a6680e88-a640-499f-9d60-238bc4381cd2"
      },
      "source": [
        "pd.DataFrame([1.0])"
      ],
      "execution_count": null,
      "outputs": [
        {
          "output_type": "execute_result",
          "data": {
            "text/html": [
              "<div>\n",
              "<style scoped>\n",
              "    .dataframe tbody tr th:only-of-type {\n",
              "        vertical-align: middle;\n",
              "    }\n",
              "\n",
              "    .dataframe tbody tr th {\n",
              "        vertical-align: top;\n",
              "    }\n",
              "\n",
              "    .dataframe thead th {\n",
              "        text-align: right;\n",
              "    }\n",
              "</style>\n",
              "<table border=\"1\" class=\"dataframe\">\n",
              "  <thead>\n",
              "    <tr style=\"text-align: right;\">\n",
              "      <th></th>\n",
              "      <th>0</th>\n",
              "    </tr>\n",
              "  </thead>\n",
              "  <tbody>\n",
              "    <tr>\n",
              "      <th>0</th>\n",
              "      <td>1.0</td>\n",
              "    </tr>\n",
              "  </tbody>\n",
              "</table>\n",
              "</div>"
            ],
            "text/plain": [
              "     0\n",
              "0  1.0"
            ]
          },
          "metadata": {
            "tags": []
          },
          "execution_count": 79
        }
      ]
    },
    {
      "cell_type": "code",
      "metadata": {
        "id": "L9kzjrz2LOK6"
      },
      "source": [
        "y_pred=results.predict(X_pred)"
      ],
      "execution_count": null,
      "outputs": []
    },
    {
      "cell_type": "code",
      "metadata": {
        "colab": {
          "base_uri": "https://localhost:8080/"
        },
        "id": "27nfnEd4N4ZV",
        "outputId": "4175cfab-eaa9-493d-9a39-46d46daca44e"
      },
      "source": [
        "y_pred"
      ],
      "execution_count": null,
      "outputs": [
        {
          "output_type": "execute_result",
          "data": {
            "text/plain": [
              "0    0.004575\n",
              "dtype: float64"
            ]
          },
          "metadata": {
            "tags": []
          },
          "execution_count": 81
        }
      ]
    },
    {
      "cell_type": "code",
      "metadata": {
        "id": "0VC73zVMlwfO"
      },
      "source": [
        "y_train_har=results.predict(x)"
      ],
      "execution_count": null,
      "outputs": []
    },
    {
      "cell_type": "markdown",
      "metadata": {
        "id": "I_mWIqZA9qxU"
      },
      "source": [
        "#### IHAR : 추정 계수의 합이 1에 가까움. ADFtest 는 정상이나, GDF 검정 실시하면 비정상성 띄는 경향 \n",
        "> 차분으로 IHAR 만들어줌"
      ]
    },
    {
      "cell_type": "markdown",
      "metadata": {
        "id": "TvLkIWaUOCuk"
      },
      "source": [
        "# AR(22)와 비교"
      ]
    },
    {
      "cell_type": "code",
      "metadata": {
        "colab": {
          "base_uri": "https://localhost:8080/"
        },
        "id": "2SborJyNRJg6",
        "outputId": "0b79da86-7f8e-4d0a-96bb-4fdbe4f86646"
      },
      "source": [
        "pip install statsmodels==0.12.2"
      ],
      "execution_count": null,
      "outputs": [
        {
          "output_type": "stream",
          "text": [
            "Requirement already satisfied: statsmodels==0.12.2 in /usr/local/lib/python3.7/dist-packages (0.12.2)\n",
            "Requirement already satisfied: numpy>=1.15 in /usr/local/lib/python3.7/dist-packages (from statsmodels==0.12.2) (1.19.5)\n",
            "Requirement already satisfied: scipy>=1.1 in /usr/local/lib/python3.7/dist-packages (from statsmodels==0.12.2) (1.4.1)\n",
            "Requirement already satisfied: pandas>=0.21 in /usr/local/lib/python3.7/dist-packages (from statsmodels==0.12.2) (1.1.5)\n",
            "Requirement already satisfied: patsy>=0.5 in /usr/local/lib/python3.7/dist-packages (from statsmodels==0.12.2) (0.5.1)\n",
            "Requirement already satisfied: pytz>=2017.2 in /usr/local/lib/python3.7/dist-packages (from pandas>=0.21->statsmodels==0.12.2) (2018.9)\n",
            "Requirement already satisfied: python-dateutil>=2.7.3 in /usr/local/lib/python3.7/dist-packages (from pandas>=0.21->statsmodels==0.12.2) (2.8.1)\n",
            "Requirement already satisfied: six in /usr/local/lib/python3.7/dist-packages (from patsy>=0.5->statsmodels==0.12.2) (1.15.0)\n"
          ],
          "name": "stdout"
        }
      ]
    },
    {
      "cell_type": "code",
      "metadata": {
        "colab": {
          "base_uri": "https://localhost:8080/"
        },
        "id": "hiwfkFMtN7ru",
        "outputId": "26a25e6a-3630-4a71-e15c-279d077ae284"
      },
      "source": [
        "from statsmodels.tsa.ar_model import AutoReg, ar_select_order\n",
        "\n",
        "model = AutoReg(RV, lags=22)\n",
        "model_fit = model.fit()"
      ],
      "execution_count": null,
      "outputs": [
        {
          "output_type": "stream",
          "text": [
            "/usr/local/lib/python3.7/dist-packages/statsmodels/tsa/ar_model.py:252: FutureWarning: The parameter names will change after 0.12 is released. Set old_names to False to use the new names now. Set old_names to True to use the old names. \n",
            "  FutureWarning,\n"
          ],
          "name": "stderr"
        }
      ]
    },
    {
      "cell_type": "code",
      "metadata": {
        "colab": {
          "base_uri": "https://localhost:8080/",
          "height": 1000
        },
        "id": "8Uf_-CvdOpRR",
        "outputId": "3be99775-59d8-467c-b738-5bdcd1e44214"
      },
      "source": [
        "model_fit.summary()"
      ],
      "execution_count": null,
      "outputs": [
        {
          "output_type": "execute_result",
          "data": {
            "text/html": [
              "<table class=\"simpletable\">\n",
              "<caption>AutoReg Model Results</caption>\n",
              "<tr>\n",
              "  <th>Dep. Variable:</th>        <td>RV</td>        <th>  No. Observations:  </th>    <td>909</td>  \n",
              "</tr>\n",
              "<tr>\n",
              "  <th>Model:</th>            <td>AutoReg(22)</td>   <th>  Log Likelihood     </th> <td>3885.954</td>\n",
              "</tr>\n",
              "<tr>\n",
              "  <th>Method:</th>         <td>Conditional MLE</td> <th>  S.D. of innovations</th>   <td>0.003</td> \n",
              "</tr>\n",
              "<tr>\n",
              "  <th>Date:</th>          <td>Tue, 20 Apr 2021</td> <th>  AIC                </th>  <td>-11.546</td>\n",
              "</tr>\n",
              "<tr>\n",
              "  <th>Time:</th>              <td>04:44:26</td>     <th>  BIC                </th>  <td>-11.416</td>\n",
              "</tr>\n",
              "<tr>\n",
              "  <th>Sample:</th>               <td>22</td>        <th>  HQIC               </th>  <td>-11.496</td>\n",
              "</tr>\n",
              "<tr>\n",
              "  <th></th>                      <td>909</td>       <th>                     </th>     <td> </td>   \n",
              "</tr>\n",
              "</table>\n",
              "<table class=\"simpletable\">\n",
              "<tr>\n",
              "      <td></td>         <th>coef</th>     <th>std err</th>      <th>z</th>      <th>P>|z|</th>  <th>[0.025</th>    <th>0.975]</th>  \n",
              "</tr>\n",
              "<tr>\n",
              "  <th>intercept</th> <td>    0.0006</td> <td>    0.000</td> <td>    3.401</td> <td> 0.001</td> <td>    0.000</td> <td>    0.001</td>\n",
              "</tr>\n",
              "<tr>\n",
              "  <th>RV.L1</th>     <td>    0.5490</td> <td>    0.034</td> <td>   16.374</td> <td> 0.000</td> <td>    0.483</td> <td>    0.615</td>\n",
              "</tr>\n",
              "<tr>\n",
              "  <th>RV.L2</th>     <td>    0.2192</td> <td>    0.038</td> <td>    5.731</td> <td> 0.000</td> <td>    0.144</td> <td>    0.294</td>\n",
              "</tr>\n",
              "<tr>\n",
              "  <th>RV.L3</th>     <td>    0.1401</td> <td>    0.039</td> <td>    3.598</td> <td> 0.000</td> <td>    0.064</td> <td>    0.216</td>\n",
              "</tr>\n",
              "<tr>\n",
              "  <th>RV.L4</th>     <td>    0.0282</td> <td>    0.039</td> <td>    0.718</td> <td> 0.473</td> <td>   -0.049</td> <td>    0.105</td>\n",
              "</tr>\n",
              "<tr>\n",
              "  <th>RV.L5</th>     <td>    0.0564</td> <td>    0.039</td> <td>    1.438</td> <td> 0.151</td> <td>   -0.021</td> <td>    0.133</td>\n",
              "</tr>\n",
              "<tr>\n",
              "  <th>RV.L6</th>     <td>   -0.2028</td> <td>    0.039</td> <td>   -5.161</td> <td> 0.000</td> <td>   -0.280</td> <td>   -0.126</td>\n",
              "</tr>\n",
              "<tr>\n",
              "  <th>RV.L7</th>     <td>    0.1708</td> <td>    0.040</td> <td>    4.283</td> <td> 0.000</td> <td>    0.093</td> <td>    0.249</td>\n",
              "</tr>\n",
              "<tr>\n",
              "  <th>RV.L8</th>     <td>   -0.0981</td> <td>    0.040</td> <td>   -2.435</td> <td> 0.015</td> <td>   -0.177</td> <td>   -0.019</td>\n",
              "</tr>\n",
              "<tr>\n",
              "  <th>RV.L9</th>     <td>    0.1436</td> <td>    0.040</td> <td>    3.549</td> <td> 0.000</td> <td>    0.064</td> <td>    0.223</td>\n",
              "</tr>\n",
              "<tr>\n",
              "  <th>RV.L10</th>    <td>   -0.0297</td> <td>    0.041</td> <td>   -0.730</td> <td> 0.466</td> <td>   -0.110</td> <td>    0.050</td>\n",
              "</tr>\n",
              "<tr>\n",
              "  <th>RV.L11</th>    <td>    0.0230</td> <td>    0.041</td> <td>    0.565</td> <td> 0.572</td> <td>   -0.057</td> <td>    0.103</td>\n",
              "</tr>\n",
              "<tr>\n",
              "  <th>RV.L12</th>    <td>   -0.0425</td> <td>    0.041</td> <td>   -1.044</td> <td> 0.296</td> <td>   -0.122</td> <td>    0.037</td>\n",
              "</tr>\n",
              "<tr>\n",
              "  <th>RV.L13</th>    <td>   -0.0101</td> <td>    0.041</td> <td>   -0.247</td> <td> 0.805</td> <td>   -0.090</td> <td>    0.070</td>\n",
              "</tr>\n",
              "<tr>\n",
              "  <th>RV.L14</th>    <td>   -0.0191</td> <td>    0.040</td> <td>   -0.473</td> <td> 0.636</td> <td>   -0.098</td> <td>    0.060</td>\n",
              "</tr>\n",
              "<tr>\n",
              "  <th>RV.L15</th>    <td>    0.0002</td> <td>    0.040</td> <td>    0.006</td> <td> 0.995</td> <td>   -0.079</td> <td>    0.079</td>\n",
              "</tr>\n",
              "<tr>\n",
              "  <th>RV.L16</th>    <td>    0.0167</td> <td>    0.040</td> <td>    0.418</td> <td> 0.676</td> <td>   -0.062</td> <td>    0.095</td>\n",
              "</tr>\n",
              "<tr>\n",
              "  <th>RV.L17</th>    <td>    0.0229</td> <td>    0.039</td> <td>    0.582</td> <td> 0.561</td> <td>   -0.054</td> <td>    0.100</td>\n",
              "</tr>\n",
              "<tr>\n",
              "  <th>RV.L18</th>    <td>   -0.0145</td> <td>    0.039</td> <td>   -0.369</td> <td> 0.712</td> <td>   -0.092</td> <td>    0.063</td>\n",
              "</tr>\n",
              "<tr>\n",
              "  <th>RV.L19</th>    <td>   -0.0272</td> <td>    0.039</td> <td>   -0.692</td> <td> 0.489</td> <td>   -0.104</td> <td>    0.050</td>\n",
              "</tr>\n",
              "<tr>\n",
              "  <th>RV.L20</th>    <td>   -0.0174</td> <td>    0.039</td> <td>   -0.445</td> <td> 0.657</td> <td>   -0.094</td> <td>    0.059</td>\n",
              "</tr>\n",
              "<tr>\n",
              "  <th>RV.L21</th>    <td>   -0.0439</td> <td>    0.038</td> <td>   -1.143</td> <td> 0.253</td> <td>   -0.119</td> <td>    0.031</td>\n",
              "</tr>\n",
              "<tr>\n",
              "  <th>RV.L22</th>    <td>    0.0522</td> <td>    0.034</td> <td>    1.550</td> <td> 0.121</td> <td>   -0.014</td> <td>    0.118</td>\n",
              "</tr>\n",
              "</table>\n",
              "<table class=\"simpletable\">\n",
              "<caption>Roots</caption>\n",
              "<tr>\n",
              "    <td></td>    <th>            Real</th>  <th>         Imaginary</th> <th>         Modulus</th>  <th>        Frequency</th>\n",
              "</tr>\n",
              "<tr>\n",
              "  <th>AR.1</th>  <td>          -1.2066</td> <td>          -0.0000j</td> <td>           1.2066</td> <td>          -0.5000</td>\n",
              "</tr>\n",
              "<tr>\n",
              "  <th>AR.2</th>  <td>          -1.0391</td> <td>          -0.3708j</td> <td>           1.1033</td> <td>          -0.4454</td>\n",
              "</tr>\n",
              "<tr>\n",
              "  <th>AR.3</th>  <td>          -1.0391</td> <td>          +0.3708j</td> <td>           1.1033</td> <td>           0.4454</td>\n",
              "</tr>\n",
              "<tr>\n",
              "  <th>AR.4</th>  <td>          -0.9575</td> <td>          -0.5884j</td> <td>           1.1238</td> <td>          -0.4123</td>\n",
              "</tr>\n",
              "<tr>\n",
              "  <th>AR.5</th>  <td>          -0.9575</td> <td>          +0.5884j</td> <td>           1.1238</td> <td>           0.4123</td>\n",
              "</tr>\n",
              "<tr>\n",
              "  <th>AR.6</th>  <td>          -0.7335</td> <td>          -0.8925j</td> <td>           1.1553</td> <td>          -0.3595</td>\n",
              "</tr>\n",
              "<tr>\n",
              "  <th>AR.7</th>  <td>          -0.7335</td> <td>          +0.8925j</td> <td>           1.1553</td> <td>           0.3595</td>\n",
              "</tr>\n",
              "<tr>\n",
              "  <th>AR.8</th>  <td>          -0.4236</td> <td>          -1.0659j</td> <td>           1.1469</td> <td>          -0.3102</td>\n",
              "</tr>\n",
              "<tr>\n",
              "  <th>AR.9</th>  <td>          -0.4236</td> <td>          +1.0659j</td> <td>           1.1469</td> <td>           0.3102</td>\n",
              "</tr>\n",
              "<tr>\n",
              "  <th>AR.10</th> <td>          -0.1246</td> <td>          -1.1492j</td> <td>           1.1559</td> <td>          -0.2672</td>\n",
              "</tr>\n",
              "<tr>\n",
              "  <th>AR.11</th> <td>          -0.1246</td> <td>          +1.1492j</td> <td>           1.1559</td> <td>           0.2672</td>\n",
              "</tr>\n",
              "<tr>\n",
              "  <th>AR.12</th> <td>           0.1847</td> <td>          -1.1228j</td> <td>           1.1379</td> <td>          -0.2241</td>\n",
              "</tr>\n",
              "<tr>\n",
              "  <th>AR.13</th> <td>           0.1847</td> <td>          +1.1228j</td> <td>           1.1379</td> <td>           0.2241</td>\n",
              "</tr>\n",
              "<tr>\n",
              "  <th>AR.14</th> <td>           0.5050</td> <td>          -1.0204j</td> <td>           1.1385</td> <td>          -0.1769</td>\n",
              "</tr>\n",
              "<tr>\n",
              "  <th>AR.15</th> <td>           0.5050</td> <td>          +1.0204j</td> <td>           1.1385</td> <td>           0.1769</td>\n",
              "</tr>\n",
              "<tr>\n",
              "  <th>AR.16</th> <td>           0.8355</td> <td>          -0.7578j</td> <td>           1.1279</td> <td>          -0.1172</td>\n",
              "</tr>\n",
              "<tr>\n",
              "  <th>AR.17</th> <td>           0.8355</td> <td>          +0.7578j</td> <td>           1.1279</td> <td>           0.1172</td>\n",
              "</tr>\n",
              "<tr>\n",
              "  <th>AR.18</th> <td>           1.0249</td> <td>          -0.5089j</td> <td>           1.1443</td> <td>          -0.0733</td>\n",
              "</tr>\n",
              "<tr>\n",
              "  <th>AR.19</th> <td>           1.0249</td> <td>          +0.5089j</td> <td>           1.1443</td> <td>           0.0733</td>\n",
              "</tr>\n",
              "<tr>\n",
              "  <th>AR.20</th> <td>           1.0867</td> <td>          -0.0509j</td> <td>           1.0879</td> <td>          -0.0075</td>\n",
              "</tr>\n",
              "<tr>\n",
              "  <th>AR.21</th> <td>           1.0867</td> <td>          +0.0509j</td> <td>           1.0879</td> <td>           0.0075</td>\n",
              "</tr>\n",
              "<tr>\n",
              "  <th>AR.22</th> <td>           1.3313</td> <td>          -0.0000j</td> <td>           1.3313</td> <td>          -0.0000</td>\n",
              "</tr>\n",
              "</table>"
            ],
            "text/plain": [
              "<class 'statsmodels.iolib.summary.Summary'>\n",
              "\"\"\"\n",
              "                            AutoReg Model Results                             \n",
              "==============================================================================\n",
              "Dep. Variable:                     RV   No. Observations:                  909\n",
              "Model:                    AutoReg(22)   Log Likelihood                3885.954\n",
              "Method:               Conditional MLE   S.D. of innovations              0.003\n",
              "Date:                Tue, 20 Apr 2021   AIC                            -11.546\n",
              "Time:                        04:44:26   BIC                            -11.416\n",
              "Sample:                            22   HQIC                           -11.496\n",
              "                                  909                                         \n",
              "==============================================================================\n",
              "                 coef    std err          z      P>|z|      [0.025      0.975]\n",
              "------------------------------------------------------------------------------\n",
              "intercept      0.0006      0.000      3.401      0.001       0.000       0.001\n",
              "RV.L1          0.5490      0.034     16.374      0.000       0.483       0.615\n",
              "RV.L2          0.2192      0.038      5.731      0.000       0.144       0.294\n",
              "RV.L3          0.1401      0.039      3.598      0.000       0.064       0.216\n",
              "RV.L4          0.0282      0.039      0.718      0.473      -0.049       0.105\n",
              "RV.L5          0.0564      0.039      1.438      0.151      -0.021       0.133\n",
              "RV.L6         -0.2028      0.039     -5.161      0.000      -0.280      -0.126\n",
              "RV.L7          0.1708      0.040      4.283      0.000       0.093       0.249\n",
              "RV.L8         -0.0981      0.040     -2.435      0.015      -0.177      -0.019\n",
              "RV.L9          0.1436      0.040      3.549      0.000       0.064       0.223\n",
              "RV.L10        -0.0297      0.041     -0.730      0.466      -0.110       0.050\n",
              "RV.L11         0.0230      0.041      0.565      0.572      -0.057       0.103\n",
              "RV.L12        -0.0425      0.041     -1.044      0.296      -0.122       0.037\n",
              "RV.L13        -0.0101      0.041     -0.247      0.805      -0.090       0.070\n",
              "RV.L14        -0.0191      0.040     -0.473      0.636      -0.098       0.060\n",
              "RV.L15         0.0002      0.040      0.006      0.995      -0.079       0.079\n",
              "RV.L16         0.0167      0.040      0.418      0.676      -0.062       0.095\n",
              "RV.L17         0.0229      0.039      0.582      0.561      -0.054       0.100\n",
              "RV.L18        -0.0145      0.039     -0.369      0.712      -0.092       0.063\n",
              "RV.L19        -0.0272      0.039     -0.692      0.489      -0.104       0.050\n",
              "RV.L20        -0.0174      0.039     -0.445      0.657      -0.094       0.059\n",
              "RV.L21        -0.0439      0.038     -1.143      0.253      -0.119       0.031\n",
              "RV.L22         0.0522      0.034      1.550      0.121      -0.014       0.118\n",
              "                                    Roots                                     \n",
              "==============================================================================\n",
              "                   Real          Imaginary           Modulus         Frequency\n",
              "------------------------------------------------------------------------------\n",
              "AR.1            -1.2066           -0.0000j            1.2066           -0.5000\n",
              "AR.2            -1.0391           -0.3708j            1.1033           -0.4454\n",
              "AR.3            -1.0391           +0.3708j            1.1033            0.4454\n",
              "AR.4            -0.9575           -0.5884j            1.1238           -0.4123\n",
              "AR.5            -0.9575           +0.5884j            1.1238            0.4123\n",
              "AR.6            -0.7335           -0.8925j            1.1553           -0.3595\n",
              "AR.7            -0.7335           +0.8925j            1.1553            0.3595\n",
              "AR.8            -0.4236           -1.0659j            1.1469           -0.3102\n",
              "AR.9            -0.4236           +1.0659j            1.1469            0.3102\n",
              "AR.10           -0.1246           -1.1492j            1.1559           -0.2672\n",
              "AR.11           -0.1246           +1.1492j            1.1559            0.2672\n",
              "AR.12            0.1847           -1.1228j            1.1379           -0.2241\n",
              "AR.13            0.1847           +1.1228j            1.1379            0.2241\n",
              "AR.14            0.5050           -1.0204j            1.1385           -0.1769\n",
              "AR.15            0.5050           +1.0204j            1.1385            0.1769\n",
              "AR.16            0.8355           -0.7578j            1.1279           -0.1172\n",
              "AR.17            0.8355           +0.7578j            1.1279            0.1172\n",
              "AR.18            1.0249           -0.5089j            1.1443           -0.0733\n",
              "AR.19            1.0249           +0.5089j            1.1443            0.0733\n",
              "AR.20            1.0867           -0.0509j            1.0879           -0.0075\n",
              "AR.21            1.0867           +0.0509j            1.0879            0.0075\n",
              "AR.22            1.3313           -0.0000j            1.3313           -0.0000\n",
              "------------------------------------------------------------------------------\n",
              "\"\"\""
            ]
          },
          "metadata": {
            "tags": []
          },
          "execution_count": 85
        }
      ]
    },
    {
      "cell_type": "code",
      "metadata": {
        "colab": {
          "base_uri": "https://localhost:8080/"
        },
        "id": "H0La3fGGSoAq",
        "outputId": "1e1f6b66-7d0c-4122-e251-1c972b0a1bc2"
      },
      "source": [
        "model_fit.predict(908)"
      ],
      "execution_count": null,
      "outputs": [
        {
          "output_type": "execute_result",
          "data": {
            "text/plain": [
              "908    0.004514\n",
              "dtype: float64"
            ]
          },
          "metadata": {
            "tags": []
          },
          "execution_count": 86
        }
      ]
    },
    {
      "cell_type": "code",
      "metadata": {
        "id": "T9YChmJfS3C4"
      },
      "source": [
        "from statsmodels.tsa.arima.model import ARIMA"
      ],
      "execution_count": null,
      "outputs": []
    },
    {
      "cell_type": "code",
      "metadata": {
        "id": "SVF78TeK91J4"
      },
      "source": [
        "model = ARIMA(RV, order=(22,0,0))\n",
        "fit  = model.fit()"
      ],
      "execution_count": null,
      "outputs": []
    },
    {
      "cell_type": "code",
      "metadata": {
        "colab": {
          "base_uri": "https://localhost:8080/",
          "height": 827
        },
        "id": "r1Shc2Pe-A7c",
        "outputId": "e40b20e0-f010-476a-d197-3166667ada65"
      },
      "source": [
        "fit.summary()"
      ],
      "execution_count": null,
      "outputs": [
        {
          "output_type": "execute_result",
          "data": {
            "text/html": [
              "<table class=\"simpletable\">\n",
              "<caption>SARIMAX Results</caption>\n",
              "<tr>\n",
              "  <th>Dep. Variable:</th>          <td>RV</td>        <th>  No. Observations:  </th>    <td>909</td>   \n",
              "</tr>\n",
              "<tr>\n",
              "  <th>Model:</th>            <td>ARIMA(22, 0, 0)</td> <th>  Log Likelihood     </th> <td>3990.929</td> \n",
              "</tr>\n",
              "<tr>\n",
              "  <th>Date:</th>            <td>Tue, 20 Apr 2021</td> <th>  AIC                </th> <td>-7933.857</td>\n",
              "</tr>\n",
              "<tr>\n",
              "  <th>Time:</th>                <td>04:44:41</td>     <th>  BIC                </th> <td>-7818.361</td>\n",
              "</tr>\n",
              "<tr>\n",
              "  <th>Sample:</th>                  <td>0</td>        <th>  HQIC               </th> <td>-7889.758</td>\n",
              "</tr>\n",
              "<tr>\n",
              "  <th></th>                      <td> - 909</td>      <th>                     </th>     <td> </td>    \n",
              "</tr>\n",
              "<tr>\n",
              "  <th>Covariance Type:</th>        <td>opg</td>       <th>                     </th>     <td> </td>    \n",
              "</tr>\n",
              "</table>\n",
              "<table class=\"simpletable\">\n",
              "<tr>\n",
              "     <td></td>       <th>coef</th>     <th>std err</th>      <th>z</th>      <th>P>|z|</th>  <th>[0.025</th>    <th>0.975]</th>  \n",
              "</tr>\n",
              "<tr>\n",
              "  <th>const</th>  <td>    0.0067</td> <td>    0.002</td> <td>    3.516</td> <td> 0.000</td> <td>    0.003</td> <td>    0.010</td>\n",
              "</tr>\n",
              "<tr>\n",
              "  <th>ar.L1</th>  <td>    0.5490</td> <td>    0.020</td> <td>   27.435</td> <td> 0.000</td> <td>    0.510</td> <td>    0.588</td>\n",
              "</tr>\n",
              "<tr>\n",
              "  <th>ar.L2</th>  <td>    0.2192</td> <td>    0.022</td> <td>   10.007</td> <td> 0.000</td> <td>    0.176</td> <td>    0.262</td>\n",
              "</tr>\n",
              "<tr>\n",
              "  <th>ar.L3</th>  <td>    0.1401</td> <td>    0.021</td> <td>    6.582</td> <td> 0.000</td> <td>    0.098</td> <td>    0.182</td>\n",
              "</tr>\n",
              "<tr>\n",
              "  <th>ar.L4</th>  <td>    0.0282</td> <td>    0.024</td> <td>    1.173</td> <td> 0.241</td> <td>   -0.019</td> <td>    0.075</td>\n",
              "</tr>\n",
              "<tr>\n",
              "  <th>ar.L5</th>  <td>    0.0564</td> <td>    0.029</td> <td>    1.971</td> <td> 0.049</td> <td>    0.000</td> <td>    0.113</td>\n",
              "</tr>\n",
              "<tr>\n",
              "  <th>ar.L6</th>  <td>   -0.2028</td> <td>    0.028</td> <td>   -7.131</td> <td> 0.000</td> <td>   -0.258</td> <td>   -0.147</td>\n",
              "</tr>\n",
              "<tr>\n",
              "  <th>ar.L7</th>  <td>    0.1708</td> <td>    0.033</td> <td>    5.195</td> <td> 0.000</td> <td>    0.106</td> <td>    0.235</td>\n",
              "</tr>\n",
              "<tr>\n",
              "  <th>ar.L8</th>  <td>   -0.0981</td> <td>    0.027</td> <td>   -3.581</td> <td> 0.000</td> <td>   -0.152</td> <td>   -0.044</td>\n",
              "</tr>\n",
              "<tr>\n",
              "  <th>ar.L9</th>  <td>    0.1436</td> <td>    0.030</td> <td>    4.747</td> <td> 0.000</td> <td>    0.084</td> <td>    0.203</td>\n",
              "</tr>\n",
              "<tr>\n",
              "  <th>ar.L10</th> <td>   -0.0297</td> <td>    0.033</td> <td>   -0.903</td> <td> 0.367</td> <td>   -0.094</td> <td>    0.035</td>\n",
              "</tr>\n",
              "<tr>\n",
              "  <th>ar.L11</th> <td>    0.0230</td> <td>    0.035</td> <td>    0.663</td> <td> 0.507</td> <td>   -0.045</td> <td>    0.091</td>\n",
              "</tr>\n",
              "<tr>\n",
              "  <th>ar.L12</th> <td>   -0.0425</td> <td>    0.032</td> <td>   -1.342</td> <td> 0.180</td> <td>   -0.105</td> <td>    0.020</td>\n",
              "</tr>\n",
              "<tr>\n",
              "  <th>ar.L13</th> <td>   -0.0101</td> <td>    0.042</td> <td>   -0.242</td> <td> 0.809</td> <td>   -0.092</td> <td>    0.072</td>\n",
              "</tr>\n",
              "<tr>\n",
              "  <th>ar.L14</th> <td>   -0.0191</td> <td>    0.033</td> <td>   -0.586</td> <td> 0.558</td> <td>   -0.083</td> <td>    0.045</td>\n",
              "</tr>\n",
              "<tr>\n",
              "  <th>ar.L15</th> <td>    0.0002</td> <td>    0.034</td> <td>    0.007</td> <td> 0.995</td> <td>   -0.066</td> <td>    0.067</td>\n",
              "</tr>\n",
              "<tr>\n",
              "  <th>ar.L16</th> <td>    0.0167</td> <td>    0.030</td> <td>    0.558</td> <td> 0.577</td> <td>   -0.042</td> <td>    0.075</td>\n",
              "</tr>\n",
              "<tr>\n",
              "  <th>ar.L17</th> <td>    0.0229</td> <td>    0.032</td> <td>    0.713</td> <td> 0.476</td> <td>   -0.040</td> <td>    0.086</td>\n",
              "</tr>\n",
              "<tr>\n",
              "  <th>ar.L18</th> <td>   -0.0145</td> <td>    0.034</td> <td>   -0.421</td> <td> 0.674</td> <td>   -0.082</td> <td>    0.053</td>\n",
              "</tr>\n",
              "<tr>\n",
              "  <th>ar.L19</th> <td>   -0.0272</td> <td>    0.033</td> <td>   -0.833</td> <td> 0.405</td> <td>   -0.091</td> <td>    0.037</td>\n",
              "</tr>\n",
              "<tr>\n",
              "  <th>ar.L20</th> <td>   -0.0174</td> <td>    0.036</td> <td>   -0.477</td> <td> 0.633</td> <td>   -0.089</td> <td>    0.054</td>\n",
              "</tr>\n",
              "<tr>\n",
              "  <th>ar.L21</th> <td>   -0.0439</td> <td>    0.033</td> <td>   -1.312</td> <td> 0.189</td> <td>   -0.109</td> <td>    0.022</td>\n",
              "</tr>\n",
              "<tr>\n",
              "  <th>ar.L22</th> <td>    0.0522</td> <td>    0.031</td> <td>    1.700</td> <td> 0.089</td> <td>   -0.008</td> <td>    0.112</td>\n",
              "</tr>\n",
              "<tr>\n",
              "  <th>sigma2</th> <td> 8.971e-06</td> <td> 2.07e-07</td> <td>   43.297</td> <td> 0.000</td> <td> 8.57e-06</td> <td> 9.38e-06</td>\n",
              "</tr>\n",
              "</table>\n",
              "<table class=\"simpletable\">\n",
              "<tr>\n",
              "  <th>Ljung-Box (L1) (Q):</th>     <td>0.00</td> <th>  Jarque-Bera (JB):  </th> <td>26218.79</td>\n",
              "</tr>\n",
              "<tr>\n",
              "  <th>Prob(Q):</th>                <td>0.95</td> <th>  Prob(JB):          </th>   <td>0.00</td>  \n",
              "</tr>\n",
              "<tr>\n",
              "  <th>Heteroskedasticity (H):</th> <td>5.76</td> <th>  Skew:              </th>   <td>2.76</td>  \n",
              "</tr>\n",
              "<tr>\n",
              "  <th>Prob(H) (two-sided):</th>    <td>0.00</td> <th>  Kurtosis:          </th>   <td>28.73</td> \n",
              "</tr>\n",
              "</table><br/><br/>Warnings:<br/>[1] Covariance matrix calculated using the outer product of gradients (complex-step)."
            ],
            "text/plain": [
              "<class 'statsmodels.iolib.summary.Summary'>\n",
              "\"\"\"\n",
              "                               SARIMAX Results                                \n",
              "==============================================================================\n",
              "Dep. Variable:                     RV   No. Observations:                  909\n",
              "Model:                ARIMA(22, 0, 0)   Log Likelihood                3990.929\n",
              "Date:                Tue, 20 Apr 2021   AIC                          -7933.857\n",
              "Time:                        04:44:41   BIC                          -7818.361\n",
              "Sample:                             0   HQIC                         -7889.758\n",
              "                                - 909                                         \n",
              "Covariance Type:                  opg                                         \n",
              "==============================================================================\n",
              "                 coef    std err          z      P>|z|      [0.025      0.975]\n",
              "------------------------------------------------------------------------------\n",
              "const          0.0067      0.002      3.516      0.000       0.003       0.010\n",
              "ar.L1          0.5490      0.020     27.435      0.000       0.510       0.588\n",
              "ar.L2          0.2192      0.022     10.007      0.000       0.176       0.262\n",
              "ar.L3          0.1401      0.021      6.582      0.000       0.098       0.182\n",
              "ar.L4          0.0282      0.024      1.173      0.241      -0.019       0.075\n",
              "ar.L5          0.0564      0.029      1.971      0.049       0.000       0.113\n",
              "ar.L6         -0.2028      0.028     -7.131      0.000      -0.258      -0.147\n",
              "ar.L7          0.1708      0.033      5.195      0.000       0.106       0.235\n",
              "ar.L8         -0.0981      0.027     -3.581      0.000      -0.152      -0.044\n",
              "ar.L9          0.1436      0.030      4.747      0.000       0.084       0.203\n",
              "ar.L10        -0.0297      0.033     -0.903      0.367      -0.094       0.035\n",
              "ar.L11         0.0230      0.035      0.663      0.507      -0.045       0.091\n",
              "ar.L12        -0.0425      0.032     -1.342      0.180      -0.105       0.020\n",
              "ar.L13        -0.0101      0.042     -0.242      0.809      -0.092       0.072\n",
              "ar.L14        -0.0191      0.033     -0.586      0.558      -0.083       0.045\n",
              "ar.L15         0.0002      0.034      0.007      0.995      -0.066       0.067\n",
              "ar.L16         0.0167      0.030      0.558      0.577      -0.042       0.075\n",
              "ar.L17         0.0229      0.032      0.713      0.476      -0.040       0.086\n",
              "ar.L18        -0.0145      0.034     -0.421      0.674      -0.082       0.053\n",
              "ar.L19        -0.0272      0.033     -0.833      0.405      -0.091       0.037\n",
              "ar.L20        -0.0174      0.036     -0.477      0.633      -0.089       0.054\n",
              "ar.L21        -0.0439      0.033     -1.312      0.189      -0.109       0.022\n",
              "ar.L22         0.0522      0.031      1.700      0.089      -0.008       0.112\n",
              "sigma2      8.971e-06   2.07e-07     43.297      0.000    8.57e-06    9.38e-06\n",
              "===================================================================================\n",
              "Ljung-Box (L1) (Q):                   0.00   Jarque-Bera (JB):             26218.79\n",
              "Prob(Q):                              0.95   Prob(JB):                         0.00\n",
              "Heteroskedasticity (H):               5.76   Skew:                             2.76\n",
              "Prob(H) (two-sided):                  0.00   Kurtosis:                        28.73\n",
              "===================================================================================\n",
              "\n",
              "Warnings:\n",
              "[1] Covariance matrix calculated using the outer product of gradients (complex-step).\n",
              "\"\"\""
            ]
          },
          "metadata": {
            "tags": []
          },
          "execution_count": 89
        }
      ]
    },
    {
      "cell_type": "code",
      "metadata": {
        "colab": {
          "base_uri": "https://localhost:8080/"
        },
        "id": "bJLEf_u19-tH",
        "outputId": "889612c1-95fd-4529-fa7b-7ec41d43da53"
      },
      "source": [
        "model_fit.predict(908)"
      ],
      "execution_count": null,
      "outputs": [
        {
          "output_type": "execute_result",
          "data": {
            "text/plain": [
              "908    0.004514\n",
              "dtype: float64"
            ]
          },
          "metadata": {
            "tags": []
          },
          "execution_count": 90
        }
      ]
    },
    {
      "cell_type": "markdown",
      "metadata": {
        "id": "3S97hFFM965b"
      },
      "source": [
        "autoreg 가 더 빠르게 나오는 경향 결과값은 ARIMA 와 같음"
      ]
    },
    {
      "cell_type": "markdown",
      "metadata": {
        "id": "LGOfSclv9_dt"
      },
      "source": [
        "# GARCH 로 추정해보기"
      ]
    },
    {
      "cell_type": "code",
      "metadata": {
        "id": "ZcLn2J5ZEMHI"
      },
      "source": [
        "snp=pd.read_csv('S&P 500 내역.csv')"
      ],
      "execution_count": null,
      "outputs": []
    },
    {
      "cell_type": "code",
      "metadata": {
        "colab": {
          "base_uri": "https://localhost:8080/",
          "height": 410
        },
        "id": "RHOtdzGMLlns",
        "outputId": "953b37f0-4ae6-4a87-a7bc-2deedd46ae52"
      },
      "source": [
        "snp"
      ],
      "execution_count": null,
      "outputs": [
        {
          "output_type": "execute_result",
          "data": {
            "text/html": [
              "<div>\n",
              "<style scoped>\n",
              "    .dataframe tbody tr th:only-of-type {\n",
              "        vertical-align: middle;\n",
              "    }\n",
              "\n",
              "    .dataframe tbody tr th {\n",
              "        vertical-align: top;\n",
              "    }\n",
              "\n",
              "    .dataframe thead th {\n",
              "        text-align: right;\n",
              "    }\n",
              "</style>\n",
              "<table border=\"1\" class=\"dataframe\">\n",
              "  <thead>\n",
              "    <tr style=\"text-align: right;\">\n",
              "      <th></th>\n",
              "      <th>date</th>\n",
              "      <th>open</th>\n",
              "    </tr>\n",
              "  </thead>\n",
              "  <tbody>\n",
              "    <tr>\n",
              "      <th>0</th>\n",
              "      <td>2017-01-03</td>\n",
              "      <td>2251.57</td>\n",
              "    </tr>\n",
              "    <tr>\n",
              "      <th>1</th>\n",
              "      <td>2017-01-04</td>\n",
              "      <td>2261.60</td>\n",
              "    </tr>\n",
              "    <tr>\n",
              "      <th>2</th>\n",
              "      <td>2017-01-05</td>\n",
              "      <td>2268.18</td>\n",
              "    </tr>\n",
              "    <tr>\n",
              "      <th>3</th>\n",
              "      <td>2017-01-06</td>\n",
              "      <td>2271.14</td>\n",
              "    </tr>\n",
              "    <tr>\n",
              "      <th>4</th>\n",
              "      <td>2017-01-09</td>\n",
              "      <td>2273.59</td>\n",
              "    </tr>\n",
              "    <tr>\n",
              "      <th>...</th>\n",
              "      <td>...</td>\n",
              "      <td>...</td>\n",
              "    </tr>\n",
              "    <tr>\n",
              "      <th>1072</th>\n",
              "      <td>2021-04-08</td>\n",
              "      <td>4089.95</td>\n",
              "    </tr>\n",
              "    <tr>\n",
              "      <th>1073</th>\n",
              "      <td>2021-04-09</td>\n",
              "      <td>4096.11</td>\n",
              "    </tr>\n",
              "    <tr>\n",
              "      <th>1074</th>\n",
              "      <td>2021-04-12</td>\n",
              "      <td>4124.71</td>\n",
              "    </tr>\n",
              "    <tr>\n",
              "      <th>1075</th>\n",
              "      <td>2021-04-13</td>\n",
              "      <td>4130.10</td>\n",
              "    </tr>\n",
              "    <tr>\n",
              "      <th>1076</th>\n",
              "      <td>2021-04-14</td>\n",
              "      <td>4141.58</td>\n",
              "    </tr>\n",
              "  </tbody>\n",
              "</table>\n",
              "<p>1077 rows × 2 columns</p>\n",
              "</div>"
            ],
            "text/plain": [
              "            date     open\n",
              "0     2017-01-03  2251.57\n",
              "1     2017-01-04  2261.60\n",
              "2     2017-01-05  2268.18\n",
              "3     2017-01-06  2271.14\n",
              "4     2017-01-09  2273.59\n",
              "...          ...      ...\n",
              "1072  2021-04-08  4089.95\n",
              "1073  2021-04-09  4096.11\n",
              "1074  2021-04-12  4124.71\n",
              "1075  2021-04-13  4130.10\n",
              "1076  2021-04-14  4141.58\n",
              "\n",
              "[1077 rows x 2 columns]"
            ]
          },
          "metadata": {
            "tags": []
          },
          "execution_count": 92
        }
      ]
    },
    {
      "cell_type": "code",
      "metadata": {
        "id": "8OJKOq3rENDE"
      },
      "source": [
        "snp2 = pd.merge(snp, series_all, how ='right')"
      ],
      "execution_count": null,
      "outputs": []
    },
    {
      "cell_type": "code",
      "metadata": {
        "colab": {
          "base_uri": "https://localhost:8080/"
        },
        "id": "KhmBMvphLy8x",
        "outputId": "1e9068cc-f2f5-4583-becc-c9931c00a8c5"
      },
      "source": [
        "snp2['rt']=np.log(snp2.open).diff(1)\n",
        "snp2.rt[0]=np.log(2251.57)-np.log(2251.61)"
      ],
      "execution_count": null,
      "outputs": [
        {
          "output_type": "stream",
          "text": [
            "/usr/local/lib/python3.7/dist-packages/ipykernel_launcher.py:2: SettingWithCopyWarning: \n",
            "A value is trying to be set on a copy of a slice from a DataFrame\n",
            "\n",
            "See the caveats in the documentation: https://pandas.pydata.org/pandas-docs/stable/user_guide/indexing.html#returning-a-view-versus-a-copy\n",
            "  \n"
          ],
          "name": "stderr"
        }
      ]
    },
    {
      "cell_type": "code",
      "metadata": {
        "colab": {
          "base_uri": "https://localhost:8080/",
          "height": 410
        },
        "id": "7wEe9SY6MSE2",
        "outputId": "2c69e15c-f1ee-479e-dbe9-3b335c4ee6ff"
      },
      "source": [
        "snp2"
      ],
      "execution_count": null,
      "outputs": [
        {
          "output_type": "execute_result",
          "data": {
            "text/html": [
              "<div>\n",
              "<style scoped>\n",
              "    .dataframe tbody tr th:only-of-type {\n",
              "        vertical-align: middle;\n",
              "    }\n",
              "\n",
              "    .dataframe tbody tr th {\n",
              "        vertical-align: top;\n",
              "    }\n",
              "\n",
              "    .dataframe thead th {\n",
              "        text-align: right;\n",
              "    }\n",
              "</style>\n",
              "<table border=\"1\" class=\"dataframe\">\n",
              "  <thead>\n",
              "    <tr style=\"text-align: right;\">\n",
              "      <th></th>\n",
              "      <th>date</th>\n",
              "      <th>open</th>\n",
              "      <th>snp</th>\n",
              "      <th>snp500</th>\n",
              "      <th>rv5</th>\n",
              "      <th>RV</th>\n",
              "      <th>rt</th>\n",
              "    </tr>\n",
              "  </thead>\n",
              "  <tbody>\n",
              "    <tr>\n",
              "      <th>0</th>\n",
              "      <td>2017-01-03</td>\n",
              "      <td>2251.57</td>\n",
              "      <td>8.14</td>\n",
              "      <td>6.80</td>\n",
              "      <td>0.000035</td>\n",
              "      <td>0.005941</td>\n",
              "      <td>-0.000018</td>\n",
              "    </tr>\n",
              "    <tr>\n",
              "      <th>1</th>\n",
              "      <td>2017-01-04</td>\n",
              "      <td>2261.60</td>\n",
              "      <td>8.80</td>\n",
              "      <td>7.40</td>\n",
              "      <td>0.000013</td>\n",
              "      <td>0.003641</td>\n",
              "      <td>0.004445</td>\n",
              "    </tr>\n",
              "    <tr>\n",
              "      <th>2</th>\n",
              "      <td>2017-01-05</td>\n",
              "      <td>2268.18</td>\n",
              "      <td>8.36</td>\n",
              "      <td>6.50</td>\n",
              "      <td>0.000012</td>\n",
              "      <td>0.003433</td>\n",
              "      <td>0.002905</td>\n",
              "    </tr>\n",
              "    <tr>\n",
              "      <th>3</th>\n",
              "      <td>2017-01-06</td>\n",
              "      <td>2271.14</td>\n",
              "      <td>9.13</td>\n",
              "      <td>6.80</td>\n",
              "      <td>0.000015</td>\n",
              "      <td>0.003869</td>\n",
              "      <td>0.001304</td>\n",
              "    </tr>\n",
              "    <tr>\n",
              "      <th>4</th>\n",
              "      <td>2017-01-09</td>\n",
              "      <td>2273.59</td>\n",
              "      <td>8.47</td>\n",
              "      <td>7.04</td>\n",
              "      <td>0.000008</td>\n",
              "      <td>0.002840</td>\n",
              "      <td>0.001078</td>\n",
              "    </tr>\n",
              "    <tr>\n",
              "      <th>...</th>\n",
              "      <td>...</td>\n",
              "      <td>...</td>\n",
              "      <td>...</td>\n",
              "      <td>...</td>\n",
              "      <td>...</td>\n",
              "      <td>...</td>\n",
              "      <td>...</td>\n",
              "    </tr>\n",
              "    <tr>\n",
              "      <th>904</th>\n",
              "      <td>2020-08-17</td>\n",
              "      <td>3380.86</td>\n",
              "      <td>25.23</td>\n",
              "      <td>25.20</td>\n",
              "      <td>0.000008</td>\n",
              "      <td>0.002907</td>\n",
              "      <td>0.003615</td>\n",
              "    </tr>\n",
              "    <tr>\n",
              "      <th>905</th>\n",
              "      <td>2020-08-18</td>\n",
              "      <td>3387.04</td>\n",
              "      <td>29.00</td>\n",
              "      <td>25.76</td>\n",
              "      <td>0.000033</td>\n",
              "      <td>0.005748</td>\n",
              "      <td>0.001826</td>\n",
              "    </tr>\n",
              "    <tr>\n",
              "      <th>906</th>\n",
              "      <td>2020-08-19</td>\n",
              "      <td>3392.51</td>\n",
              "      <td>26.10</td>\n",
              "      <td>28.00</td>\n",
              "      <td>0.000030</td>\n",
              "      <td>0.005488</td>\n",
              "      <td>0.001614</td>\n",
              "    </tr>\n",
              "    <tr>\n",
              "      <th>907</th>\n",
              "      <td>2020-08-20</td>\n",
              "      <td>3360.48</td>\n",
              "      <td>25.23</td>\n",
              "      <td>26.32</td>\n",
              "      <td>0.000018</td>\n",
              "      <td>0.004251</td>\n",
              "      <td>-0.009486</td>\n",
              "    </tr>\n",
              "    <tr>\n",
              "      <th>908</th>\n",
              "      <td>2020-08-21</td>\n",
              "      <td>3386.01</td>\n",
              "      <td>26.68</td>\n",
              "      <td>24.92</td>\n",
              "      <td>0.000019</td>\n",
              "      <td>0.004413</td>\n",
              "      <td>0.007568</td>\n",
              "    </tr>\n",
              "  </tbody>\n",
              "</table>\n",
              "<p>909 rows × 7 columns</p>\n",
              "</div>"
            ],
            "text/plain": [
              "           date     open    snp  snp500       rv5        RV        rt\n",
              "0    2017-01-03  2251.57   8.14    6.80  0.000035  0.005941 -0.000018\n",
              "1    2017-01-04  2261.60   8.80    7.40  0.000013  0.003641  0.004445\n",
              "2    2017-01-05  2268.18   8.36    6.50  0.000012  0.003433  0.002905\n",
              "3    2017-01-06  2271.14   9.13    6.80  0.000015  0.003869  0.001304\n",
              "4    2017-01-09  2273.59   8.47    7.04  0.000008  0.002840  0.001078\n",
              "..          ...      ...    ...     ...       ...       ...       ...\n",
              "904  2020-08-17  3380.86  25.23   25.20  0.000008  0.002907  0.003615\n",
              "905  2020-08-18  3387.04  29.00   25.76  0.000033  0.005748  0.001826\n",
              "906  2020-08-19  3392.51  26.10   28.00  0.000030  0.005488  0.001614\n",
              "907  2020-08-20  3360.48  25.23   26.32  0.000018  0.004251 -0.009486\n",
              "908  2020-08-21  3386.01  26.68   24.92  0.000019  0.004413  0.007568\n",
              "\n",
              "[909 rows x 7 columns]"
            ]
          },
          "metadata": {
            "tags": []
          },
          "execution_count": 95
        }
      ]
    },
    {
      "cell_type": "code",
      "metadata": {
        "colab": {
          "base_uri": "https://localhost:8080/",
          "height": 282
        },
        "id": "ISjfkxWUMcmk",
        "outputId": "cfcfce42-03f0-4186-8b24-c3c74f5cd30a"
      },
      "source": [
        "plt.plot(snp2.open)"
      ],
      "execution_count": null,
      "outputs": [
        {
          "output_type": "execute_result",
          "data": {
            "text/plain": [
              "[<matplotlib.lines.Line2D at 0x7f72f2347f10>]"
            ]
          },
          "metadata": {
            "tags": []
          },
          "execution_count": 96
        },
        {
          "output_type": "display_data",
          "data": {
            "image/png": "[encoded data removed]",
            "text/plain": [
              "<Figure size 432x288 with 1 Axes>"
            ]
          },
          "metadata": {
            "tags": [],
            "needs_background": "light"
          }
        }
      ]
    },
    {
      "cell_type": "code",
      "metadata": {
        "colab": {
          "base_uri": "https://localhost:8080/",
          "height": 282
        },
        "id": "n8G0u133NHM4",
        "outputId": "da287fe8-9f89-4bec-f365-3f3c65ec5d13"
      },
      "source": [
        "plt.plot(snp2.rt)"
      ],
      "execution_count": null,
      "outputs": [
        {
          "output_type": "execute_result",
          "data": {
            "text/plain": [
              "[<matplotlib.lines.Line2D at 0x7f72f22b9750>]"
            ]
          },
          "metadata": {
            "tags": []
          },
          "execution_count": 97
        },
        {
          "output_type": "display_data",
          "data": {
            "image/png": "[encoded data removed]",
            "text/plain": [
              "<Figure size 432x288 with 1 Axes>"
            ]
          },
          "metadata": {
            "tags": [],
            "needs_background": "light"
          }
        }
      ]
    },
    {
      "cell_type": "code",
      "metadata": {
        "colab": {
          "base_uri": "https://localhost:8080/",
          "height": 268
        },
        "id": "KzJFbXSWNNxa",
        "outputId": "83b2d394-bf56-4f7d-ecff-69ee2b1a5d50"
      },
      "source": [
        "plt.hist(snp2.rt,bins=100);"
      ],
      "execution_count": null,
      "outputs": [
        {
          "output_type": "display_data",
          "data": {
            "image/png": "[encoded data removed]",
            "text/plain": [
              "<Figure size 432x288 with 1 Axes>"
            ]
          },
          "metadata": {
            "tags": [],
            "needs_background": "light"
          }
        }
      ]
    },
    {
      "cell_type": "code",
      "metadata": {
        "colab": {
          "base_uri": "https://localhost:8080/"
        },
        "id": "ANKsjuegNSZa",
        "outputId": "b24a71a7-882e-40c5-e186-af368fd5bd28"
      },
      "source": [
        "skew(snp2.rt)"
      ],
      "execution_count": null,
      "outputs": [
        {
          "output_type": "execute_result",
          "data": {
            "text/plain": [
              "-0.8885012731041579"
            ]
          },
          "metadata": {
            "tags": []
          },
          "execution_count": 99
        }
      ]
    },
    {
      "cell_type": "code",
      "metadata": {
        "colab": {
          "base_uri": "https://localhost:8080/"
        },
        "id": "OepJ6K-qNs8K",
        "outputId": "4db16141-3381-4023-f85f-14865a62ed32"
      },
      "source": [
        "kurtosis(snp2.rt)"
      ],
      "execution_count": null,
      "outputs": [
        {
          "output_type": "execute_result",
          "data": {
            "text/plain": [
              "8.75803012180271"
            ]
          },
          "metadata": {
            "tags": []
          },
          "execution_count": 100
        }
      ]
    },
    {
      "cell_type": "code",
      "metadata": {
        "colab": {
          "base_uri": "https://localhost:8080/"
        },
        "id": "48wI8JLAOWue",
        "outputId": "3f24e885-73a2-4a16-880c-c2f856a80763"
      },
      "source": [
        "!pip install arch"
      ],
      "execution_count": null,
      "outputs": [
        {
          "output_type": "stream",
          "text": [
            "Requirement already satisfied: arch in /usr/local/lib/python3.7/dist-packages (4.19)\n",
            "Requirement already satisfied: cython>=0.29.14 in /usr/local/lib/python3.7/dist-packages (from arch) (0.29.22)\n",
            "Requirement already satisfied: statsmodels>=0.10 in /usr/local/lib/python3.7/dist-packages (from arch) (0.12.2)\n",
            "Requirement already satisfied: scipy>=1.2.3 in /usr/local/lib/python3.7/dist-packages (from arch) (1.4.1)\n",
            "Requirement already satisfied: pandas>=0.23 in /usr/local/lib/python3.7/dist-packages (from arch) (1.1.5)\n",
            "Requirement already satisfied: numpy>=1.14 in /usr/local/lib/python3.7/dist-packages (from arch) (1.19.5)\n",
            "Requirement already satisfied: property-cached>=1.6.4 in /usr/local/lib/python3.7/dist-packages (from arch) (1.6.4)\n",
            "Requirement already satisfied: patsy>=0.5 in /usr/local/lib/python3.7/dist-packages (from statsmodels>=0.10->arch) (0.5.1)\n",
            "Requirement already satisfied: pytz>=2017.2 in /usr/local/lib/python3.7/dist-packages (from pandas>=0.23->arch) (2018.9)\n",
            "Requirement already satisfied: python-dateutil>=2.7.3 in /usr/local/lib/python3.7/dist-packages (from pandas>=0.23->arch) (2.8.1)\n",
            "Requirement already satisfied: six in /usr/local/lib/python3.7/dist-packages (from patsy>=0.5->statsmodels>=0.10->arch) (1.15.0)\n"
          ],
          "name": "stdout"
        }
      ]
    },
    {
      "cell_type": "code",
      "metadata": {
        "colab": {
          "base_uri": "https://localhost:8080/"
        },
        "id": "los5cx3hNvRb",
        "outputId": "6b45d8a3-e84a-4fe4-b4c2-2e15111fe4e3"
      },
      "source": [
        "from arch import arch_model\n",
        "\n",
        "model = arch_model(snp2.rt, mean='Zero', vol='GARCH', p=1, q=1)\n",
        "model_fit = model.fit()"
      ],
      "execution_count": null,
      "outputs": [
        {
          "output_type": "stream",
          "text": [
            "Iteration:      1,   Func. Count:      5,   Neg. LLF: -3167.536440767085\n",
            "Optimization terminated successfully.    (Exit mode 0)\n",
            "            Current function value: -3167.5364381263284\n",
            "            Iterations: 5\n",
            "            Function evaluations: 5\n",
            "            Gradient evaluations: 1\n"
          ],
          "name": "stdout"
        },
        {
          "output_type": "stream",
          "text": [
            "/usr/local/lib/python3.7/dist-packages/arch/univariate/base.py:317: DataScaleWarning: y is poorly scaled, which may affect convergence of the optimizer when\n",
            "estimating the model parameters. The scale of y is 0.000103. Parameter\n",
            "estimation work better when this value is between 1 and 1000. The recommended\n",
            "rescaling is 100 * y.\n",
            "\n",
            "This warning can be disabled by either rescaling y before initializing the\n",
            "model or by setting rescale=False.\n",
            "\n",
            "  data_scale_warning.format(orig_scale, rescale), DataScaleWarning\n"
          ],
          "name": "stderr"
        }
      ]
    },
    {
      "cell_type": "code",
      "metadata": {
        "colab": {
          "base_uri": "https://localhost:8080/",
          "height": 345
        },
        "id": "qjmhBSojOSYd",
        "outputId": "0c0ba3e4-98b0-43fe-dd55-1a68d17c4667"
      },
      "source": [
        "model_fit.summary()"
      ],
      "execution_count": null,
      "outputs": [
        {
          "output_type": "execute_result",
          "data": {
            "text/html": [
              "<table class=\"simpletable\">\n",
              "<caption>Zero Mean - GARCH Model Results</caption>\n",
              "<tr>\n",
              "  <th>Dep. Variable:</th>         <td>rt</td>         <th>  R-squared:         </th>  <td>   0.000</td> \n",
              "</tr>\n",
              "<tr>\n",
              "  <th>Mean Model:</th>         <td>Zero Mean</td>     <th>  Adj. R-squared:    </th>  <td>   0.001</td> \n",
              "</tr>\n",
              "<tr>\n",
              "  <th>Vol Model:</th>            <td>GARCH</td>       <th>  Log-Likelihood:    </th> <td>   3167.54</td>\n",
              "</tr>\n",
              "<tr>\n",
              "  <th>Distribution:</th>        <td>Normal</td>       <th>  AIC:               </th> <td>  -6329.07</td>\n",
              "</tr>\n",
              "<tr>\n",
              "  <th>Method:</th>        <td>Maximum Likelihood</td> <th>  BIC:               </th> <td>  -6314.64</td>\n",
              "</tr>\n",
              "<tr>\n",
              "  <th></th>                        <td></td>          <th>  No. Observations:  </th>     <td>909</td>   \n",
              "</tr>\n",
              "<tr>\n",
              "  <th>Date:</th>           <td>Tue, Apr 20 2021</td>  <th>  Df Residuals:      </th>     <td>909</td>   \n",
              "</tr>\n",
              "<tr>\n",
              "  <th>Time:</th>               <td>04:44:45</td>      <th>  Df Model:          </th>      <td>0</td>    \n",
              "</tr>\n",
              "</table>\n",
              "<table class=\"simpletable\">\n",
              "<caption>Volatility Model</caption>\n",
              "<tr>\n",
              "      <td></td>        <th>coef</th>     <th>std err</th>      <th>t</th>        <th>P>|t|</th>     <th>95.0% Conf. Int.</th>   \n",
              "</tr>\n",
              "<tr>\n",
              "  <th>omega</th>    <td>2.0638e-06</td> <td>7.035e-11</td> <td>2.934e+04</td>    <td>0.000</td>   <td>[2.064e-06,2.064e-06]</td>\n",
              "</tr>\n",
              "<tr>\n",
              "  <th>alpha[1]</th> <td>    0.2000</td> <td>4.194e-02</td> <td>    4.768</td>  <td>1.857e-06</td>   <td>[  0.118,  0.282]</td>  \n",
              "</tr>\n",
              "<tr>\n",
              "  <th>beta[1]</th>  <td>    0.7800</td> <td>3.562e-02</td> <td>   21.896</td> <td>2.840e-106</td>   <td>[  0.710,  0.850]</td>  \n",
              "</tr>\n",
              "</table><br/><br/>Covariance estimator: robust"
            ],
            "text/plain": [
              "<class 'statsmodels.iolib.summary.Summary'>\n",
              "\"\"\"\n",
              "                       Zero Mean - GARCH Model Results                        \n",
              "==============================================================================\n",
              "Dep. Variable:                     rt   R-squared:                       0.000\n",
              "Mean Model:                 Zero Mean   Adj. R-squared:                  0.001\n",
              "Vol Model:                      GARCH   Log-Likelihood:                3167.54\n",
              "Distribution:                  Normal   AIC:                          -6329.07\n",
              "Method:            Maximum Likelihood   BIC:                          -6314.64\n",
              "                                        No. Observations:                  909\n",
              "Date:                Tue, Apr 20 2021   Df Residuals:                      909\n",
              "Time:                        04:44:45   Df Model:                            0\n",
              "                              Volatility Model                              \n",
              "============================================================================\n",
              "                 coef    std err          t      P>|t|      95.0% Conf. Int.\n",
              "----------------------------------------------------------------------------\n",
              "omega      2.0638e-06  7.035e-11  2.934e+04      0.000 [2.064e-06,2.064e-06]\n",
              "alpha[1]       0.2000  4.194e-02      4.768  1.857e-06     [  0.118,  0.282]\n",
              "beta[1]        0.7800  3.562e-02     21.896 2.840e-106     [  0.710,  0.850]\n",
              "============================================================================\n",
              "\n",
              "Covariance estimator: robust\n",
              "\"\"\""
            ]
          },
          "metadata": {
            "tags": []
          },
          "execution_count": 103
        }
      ]
    },
    {
      "cell_type": "code",
      "metadata": {
        "id": "yeNkVcZMOdnh"
      },
      "source": [
        "sigmahat=model_fit.conditional_volatility"
      ],
      "execution_count": null,
      "outputs": []
    },
    {
      "cell_type": "code",
      "metadata": {
        "colab": {
          "base_uri": "https://localhost:8080/",
          "height": 282
        },
        "id": "VJVFXFRMOobD",
        "outputId": "b4274876-e8f1-43bc-834b-2f9db0c14c68"
      },
      "source": [
        "plt.plot(series_all.RV)\n",
        "plt.plot(sigmahat, label='prediction')\n",
        "plt.legend()"
      ],
      "execution_count": null,
      "outputs": [
        {
          "output_type": "execute_result",
          "data": {
            "text/plain": [
              "<matplotlib.legend.Legend at 0x7f72f36f1050>"
            ]
          },
          "metadata": {
            "tags": []
          },
          "execution_count": 105
        },
        {
          "output_type": "display_data",
          "data": {
            "image/png": "[encoded data removed]",
            "text/plain": [
              "<Figure size 432x288 with 1 Axes>"
            ]
          },
          "metadata": {
            "tags": [],
            "needs_background": "light"
          }
        }
      ]
    },
    {
      "cell_type": "markdown",
      "metadata": {
        "id": "m-F_8gzePbIh"
      },
      "source": [
        "t분포로 해봄"
      ]
    },
    {
      "cell_type": "code",
      "metadata": {
        "colab": {
          "base_uri": "https://localhost:8080/"
        },
        "id": "yLwqXCeRPARK",
        "outputId": "c86de793-487a-45ed-e6e5-1578f4ba8146"
      },
      "source": [
        "model_t = arch_model(snp2.rt, mean='Zero', vol='GARCH', p=1, q=1,dist='StudentsT')\n",
        "model_fit_t = model_t.fit()"
      ],
      "execution_count": null,
      "outputs": [
        {
          "output_type": "stream",
          "text": [
            "Iteration:      1,   Func. Count:      6,   Neg. LLF: -3205.9985530183167\n",
            "Optimization terminated successfully.    (Exit mode 0)\n",
            "            Current function value: -3205.998553009989\n",
            "            Iterations: 5\n",
            "            Function evaluations: 6\n",
            "            Gradient evaluations: 1\n"
          ],
          "name": "stdout"
        },
        {
          "output_type": "stream",
          "text": [
            "/usr/local/lib/python3.7/dist-packages/arch/univariate/base.py:317: DataScaleWarning: y is poorly scaled, which may affect convergence of the optimizer when\n",
            "estimating the model parameters. The scale of y is 0.000103. Parameter\n",
            "estimation work better when this value is between 1 and 1000. The recommended\n",
            "rescaling is 100 * y.\n",
            "\n",
            "This warning can be disabled by either rescaling y before initializing the\n",
            "model or by setting rescale=False.\n",
            "\n",
            "  data_scale_warning.format(orig_scale, rescale), DataScaleWarning\n"
          ],
          "name": "stderr"
        }
      ]
    },
    {
      "cell_type": "code",
      "metadata": {
        "colab": {
          "base_uri": "https://localhost:8080/",
          "height": 404
        },
        "id": "LoDvNtEvPXT3",
        "outputId": "992d1a7b-5827-4ca9-cb33-c970b2e723c0"
      },
      "source": [
        "model_fit_t.summary()"
      ],
      "execution_count": null,
      "outputs": [
        {
          "output_type": "execute_result",
          "data": {
            "text/html": [
              "<table class=\"simpletable\">\n",
              "<caption>Zero Mean - GARCH Model Results</caption>\n",
              "<tr>\n",
              "  <th>Dep. Variable:</th>            <td>rt</td>            <th>  R-squared:         </th>  <td>   0.000</td> \n",
              "</tr>\n",
              "<tr>\n",
              "  <th>Mean Model:</th>            <td>Zero Mean</td>        <th>  Adj. R-squared:    </th>  <td>   0.001</td> \n",
              "</tr>\n",
              "<tr>\n",
              "  <th>Vol Model:</th>               <td>GARCH</td>          <th>  Log-Likelihood:    </th> <td>   3206.00</td>\n",
              "</tr>\n",
              "<tr>\n",
              "  <th>Distribution:</th>  <td>Standardized Student's t</td> <th>  AIC:               </th> <td>  -6404.00</td>\n",
              "</tr>\n",
              "<tr>\n",
              "  <th>Method:</th>           <td>Maximum Likelihood</td>    <th>  BIC:               </th> <td>  -6384.75</td>\n",
              "</tr>\n",
              "<tr>\n",
              "  <th></th>                           <td></td>             <th>  No. Observations:  </th>     <td>909</td>   \n",
              "</tr>\n",
              "<tr>\n",
              "  <th>Date:</th>              <td>Tue, Apr 20 2021</td>     <th>  Df Residuals:      </th>     <td>909</td>   \n",
              "</tr>\n",
              "<tr>\n",
              "  <th>Time:</th>                  <td>04:44:45</td>         <th>  Df Model:          </th>      <td>0</td>    \n",
              "</tr>\n",
              "</table>\n",
              "<table class=\"simpletable\">\n",
              "<caption>Volatility Model</caption>\n",
              "<tr>\n",
              "      <td></td>        <th>coef</th>     <th>std err</th>      <th>t</th>        <th>P>|t|</th>     <th>95.0% Conf. Int.</th>   \n",
              "</tr>\n",
              "<tr>\n",
              "  <th>omega</th>    <td>2.0638e-06</td> <td>1.244e-08</td> <td>  165.861</td>    <td>0.000</td>   <td>[2.039e-06,2.088e-06]</td>\n",
              "</tr>\n",
              "<tr>\n",
              "  <th>alpha[1]</th> <td>    0.2000</td> <td>3.375e-02</td> <td>    5.926</td>  <td>3.101e-09</td>   <td>[  0.134,  0.266]</td>  \n",
              "</tr>\n",
              "<tr>\n",
              "  <th>beta[1]</th>  <td>    0.7800</td> <td>2.869e-02</td> <td>   27.185</td> <td>9.662e-163</td>   <td>[  0.724,  0.836]</td>  \n",
              "</tr>\n",
              "</table>\n",
              "<table class=\"simpletable\">\n",
              "<caption>Distribution</caption>\n",
              "<tr>\n",
              "   <td></td>     <th>coef</th>     <th>std err</th>      <th>t</th>     <th>P>|t|</th> <th>95.0% Conf. Int.</th> \n",
              "</tr>\n",
              "<tr>\n",
              "  <th>nu</th> <td>    5.5545</td> <td>6.276e-02</td> <td>   88.505</td> <td>0.000</td> <td>[  5.432,  5.678]</td>\n",
              "</tr>\n",
              "</table><br/><br/>Covariance estimator: robust"
            ],
            "text/plain": [
              "<class 'statsmodels.iolib.summary.Summary'>\n",
              "\"\"\"\n",
              "                          Zero Mean - GARCH Model Results                           \n",
              "====================================================================================\n",
              "Dep. Variable:                           rt   R-squared:                       0.000\n",
              "Mean Model:                       Zero Mean   Adj. R-squared:                  0.001\n",
              "Vol Model:                            GARCH   Log-Likelihood:                3206.00\n",
              "Distribution:      Standardized Student's t   AIC:                          -6404.00\n",
              "Method:                  Maximum Likelihood   BIC:                          -6384.75\n",
              "                                              No. Observations:                  909\n",
              "Date:                      Tue, Apr 20 2021   Df Residuals:                      909\n",
              "Time:                              04:44:45   Df Model:                            0\n",
              "                              Volatility Model                              \n",
              "============================================================================\n",
              "                 coef    std err          t      P>|t|      95.0% Conf. Int.\n",
              "----------------------------------------------------------------------------\n",
              "omega      2.0638e-06  1.244e-08    165.861      0.000 [2.039e-06,2.088e-06]\n",
              "alpha[1]       0.2000  3.375e-02      5.926  3.101e-09     [  0.134,  0.266]\n",
              "beta[1]        0.7800  2.869e-02     27.185 9.662e-163     [  0.724,  0.836]\n",
              "                              Distribution                              \n",
              "========================================================================\n",
              "                 coef    std err          t      P>|t|  95.0% Conf. Int.\n",
              "------------------------------------------------------------------------\n",
              "nu             5.5545  6.276e-02     88.505      0.000 [  5.432,  5.678]\n",
              "========================================================================\n",
              "\n",
              "Covariance estimator: robust\n",
              "\"\"\""
            ]
          },
          "metadata": {
            "tags": []
          },
          "execution_count": 107
        }
      ]
    },
    {
      "cell_type": "code",
      "metadata": {
        "id": "BrgP1K2NPZgX"
      },
      "source": [
        "sigmahat2=model_fit_t.conditional_volatility"
      ],
      "execution_count": null,
      "outputs": []
    },
    {
      "cell_type": "code",
      "metadata": {
        "colab": {
          "base_uri": "https://localhost:8080/",
          "height": 282
        },
        "id": "rQ3oNepRPlVG",
        "outputId": "0089c7d1-c614-4237-a9b9-7ea304504f83"
      },
      "source": [
        "plt.plot(series_all.RV)\n",
        "plt.plot(sigmahat2, label='prediction_t')\n",
        "plt.legend()"
      ],
      "execution_count": null,
      "outputs": [
        {
          "output_type": "execute_result",
          "data": {
            "text/plain": [
              "<matplotlib.legend.Legend at 0x7f7336bff1d0>"
            ]
          },
          "metadata": {
            "tags": []
          },
          "execution_count": 109
        },
        {
          "output_type": "display_data",
          "data": {
            "image/png": "[encoded data removed]",
            "text/plain": [
              "<Figure size 432x288 with 1 Axes>"
            ]
          },
          "metadata": {
            "tags": [],
            "needs_background": "light"
          }
        }
      ]
    },
    {
      "cell_type": "code",
      "metadata": {
        "colab": {
          "base_uri": "https://localhost:8080/",
          "height": 282
        },
        "id": "2mWcWgnpP48-",
        "outputId": "c0dbb892-310c-4e78-8eaa-b24bd78bd7a8"
      },
      "source": [
        "plt.plot(sigmahat)\n",
        "plt.plot(sigmahat2, label='prediction_t')\n",
        "plt.legend()"
      ],
      "execution_count": null,
      "outputs": [
        {
          "output_type": "execute_result",
          "data": {
            "text/plain": [
              "<matplotlib.legend.Legend at 0x7f7336bb6bd0>"
            ]
          },
          "metadata": {
            "tags": []
          },
          "execution_count": 110
        },
        {
          "output_type": "display_data",
          "data": {
            "image/png": "[encoded data removed]",
            "text/plain": [
              "<Figure size 432x288 with 1 Axes>"
            ]
          },
          "metadata": {
            "tags": [],
            "needs_background": "light"
          }
        }
      ]
    },
    {
      "cell_type": "markdown",
      "metadata": {
        "id": "mZFQSrnyP_n9"
      },
      "source": [
        "차이 없는것 같은데.."
      ]
    },
    {
      "cell_type": "markdown",
      "metadata": {
        "id": "TPSeJIhzmE2k"
      },
      "source": [
        "## HAR GARCH 비교"
      ]
    },
    {
      "cell_type": "code",
      "metadata": {
        "id": "bw91fciLP-Zc",
        "colab": {
          "base_uri": "https://localhost:8080/",
          "height": 282
        },
        "outputId": "08056bed-8f1d-45a4-b090-f6fe49420357"
      },
      "source": [
        "plt.plot(series_all.RV[21:].values)\n",
        "plt.plot(y_train_har.values,label='har')\n",
        "plt.plot(sigmahat[21:].values,label='garch')\n",
        "plt.legend()"
      ],
      "execution_count": null,
      "outputs": [
        {
          "output_type": "execute_result",
          "data": {
            "text/plain": [
              "<matplotlib.legend.Legend at 0x7f72eea08b50>"
            ]
          },
          "metadata": {
            "tags": []
          },
          "execution_count": 118
        },
        {
          "output_type": "display_data",
          "data": {
            "image/png": "[encoded data removed]",
            "text/plain": [
              "<Figure size 432x288 with 1 Axes>"
            ]
          },
          "metadata": {
            "tags": [],
            "needs_background": "light"
          }
        }
      ]
    },
    {
      "cell_type": "code",
      "metadata": {
        "id": "dE5V_ybXmzns"
      },
      "source": [
        ""
      ],
      "execution_count": null,
      "outputs": []
    }
  ]
}